{
 "cells": [
  {
   "cell_type": "code",
   "execution_count": 17,
   "id": "f67ab81d",
   "metadata": {},
   "outputs": [
    {
     "name": "stdout",
     "output_type": "stream",
     "text": [
      "Review: I absolutely love this app! It's so intuitive and helpful.\n",
      "Emotions:\n",
      "  anger: 0.00\n",
      "  disgust: 0.00\n",
      "  fear: 0.00\n",
      "  joy: 0.94\n",
      "  neutral: 0.03\n",
      "  sadness: 0.00\n",
      "  surprise: 0.02\n",
      "\n",
      "Review: I'm so frustrated! It crashes every time I try to use it.\n",
      "Emotions:\n",
      "  anger: 0.95\n",
      "  disgust: 0.01\n",
      "  fear: 0.00\n",
      "  joy: 0.00\n",
      "  neutral: 0.01\n",
      "  sadness: 0.02\n",
      "  surprise: 0.01\n",
      "\n",
      "Review: This update is okay, but I expected more features.\n",
      "Emotions:\n",
      "  anger: 0.01\n",
      "  disgust: 0.01\n",
      "  fear: 0.01\n",
      "  joy: 0.03\n",
      "  neutral: 0.81\n",
      "  sadness: 0.07\n",
      "  surprise: 0.06\n",
      "\n",
      "Review: The customer support team is amazing and very responsive.\n",
      "Emotions:\n",
      "  anger: 0.01\n",
      "  disgust: 0.01\n",
      "  fear: 0.01\n",
      "  joy: 0.08\n",
      "  neutral: 0.27\n",
      "  sadness: 0.00\n",
      "  surprise: 0.63\n",
      "\n",
      "Review: I'm disappointed by the recent changes. They made the app worse.\n",
      "Emotions:\n",
      "  anger: 0.05\n",
      "  disgust: 0.82\n",
      "  fear: 0.00\n",
      "  joy: 0.00\n",
      "  neutral: 0.03\n",
      "  sadness: 0.09\n",
      "  surprise: 0.00\n",
      "\n"
     ]
    },
    {
     "name": "stderr",
     "output_type": "stream",
     "text": [
      "C:\\Users\\Ryan Jewik\\anaconda3\\lib\\site-packages\\transformers\\pipelines\\text_classification.py:106: UserWarning: `return_all_scores` is now deprecated,  if want a similar functionality use `top_k=None` instead of `return_all_scores=True` or `top_k=1` instead of `return_all_scores=False`.\n",
      "  warnings.warn(\n"
     ]
    }
   ],
   "source": [
    "from transformers import pipeline\n",
    "\n",
    "# Load the emotion detection pipeline\n",
    "emotion_analyzer = pipeline(\"text-classification\", model=\"j-hartmann/emotion-english-distilroberta-base\", return_all_scores=True)\n",
    "\n",
    "# Example reviews\n",
    "reviews = [\n",
    "    \"I absolutely love this app! It's so intuitive and helpful.\",\n",
    "    \"I'm so frustrated! It crashes every time I try to use it.\",\n",
    "    \"This update is okay, but I expected more features.\",\n",
    "    \"The customer support team is amazing and very responsive.\",\n",
    "    \"I'm disappointed by the recent changes. They made the app worse.\"\n",
    "]\n",
    "\n",
    "# Analyze emotions\n",
    "for review in reviews:\n",
    "    emotions = emotion_analyzer(review)\n",
    "    print(f\"Review: {review}\")\n",
    "    print(\"Emotions:\")\n",
    "    for emotion in emotions[0]:\n",
    "        print(f\"  {emotion['label']}: {emotion['score']:.2f}\")\n",
    "    print()\n"
   ]
  },
  {
   "cell_type": "code",
   "execution_count": 1,
   "id": "5152b8bd",
   "metadata": {},
   "outputs": [
    {
     "name": "stderr",
     "output_type": "stream",
     "text": [
      "C:\\Users\\Ryan Jewik\\AppData\\Roaming\\Python\\Python39\\site-packages\\pandas\\core\\computation\\expressions.py:21: UserWarning: Pandas requires version '2.8.4' or newer of 'numexpr' (version '2.8.3' currently installed).\n",
      "  from pandas.core.computation.check import NUMEXPR_INSTALLED\n",
      "C:\\Users\\Ryan Jewik\\AppData\\Roaming\\Python\\Python39\\site-packages\\pandas\\core\\arrays\\masked.py:60: UserWarning: Pandas requires version '1.3.6' or newer of 'bottleneck' (version '1.3.5' currently installed).\n",
      "  from pandas.core import (\n"
     ]
    }
   ],
   "source": [
    "from google_play_scraper import app\n",
    "from google_play_scraper import Sort, reviews_all\n",
    "import pandas as pd\n",
    "import numpy as np\n",
    "import string\n",
    "def string_to_integer(input_str):\n",
    "    # Remove punctuation from the string\n",
    "    cleaned_str = input_str.translate(str.maketrans('', '', string.punctuation))\n",
    "    # Convert the cleaned string to an integer\n",
    "    try:\n",
    "        return int(cleaned_str)\n",
    "    except ValueError:\n",
    "        raise ValueError(\"The input string does not contain a valid integer after removing punctuation.\")\n",
    "\n",
    "import re\n",
    "\n",
    "def clean_filename(filename):\n",
    "    # Define a regex pattern for characters not allowed in filenames\n",
    "    invalid_chars = r'[\\/:*?\"<>|]'\n",
    "    # Replace invalid characters with an underscore\n",
    "    cleaned_filename = re.sub(invalid_chars, '_', filename)\n",
    "    return cleaned_filename\n",
    "\n",
    "from google_play_scraper import search\n",
    "\n",
    "\n",
    "#app search\n",
    "result = search(\n",
    "    \"khan academy kids\",\n",
    "    lang=\"en\",  # defaults to 'en'\n",
    "    country=\"us\",  # defaults to 'us'\n",
    "    n_hits=3  # defaults to 30 (= Google's maximum) we can adjust to how many other recommendations we might want\n",
    ")\n",
    "\n",
    "appIds = []\n",
    "appNames = []\n",
    "appIds.append(result[0]['appId'])\n",
    "appIds.append(result[1]['appId'])\n",
    "appIds.append(result[2]['appId'])\n",
    "appNames.append(result[0]['title'])\n",
    "appNames.append(result[1]['title'])\n",
    "appNames.append(result[2]['title'])\n",
    "\n",
    "#first app\n",
    "#adds all the reviews to a dataframe\n",
    "app1_df = pd.DataFrame()\n",
    "result = reviews_all(\n",
    "    appIds[0],\n",
    "    sleep_milliseconds=0, # defaults to 0\n",
    "    lang='en', # defaults to 'en'\n",
    "    country='us', # defaults to 'us'\n",
    "    sort=Sort.MOST_RELEVANT, # defaults to Sort.MOST_RELEVANT\n",
    ")\n",
    "for review in result:\n",
    "    developerResponse = review\n",
    "    date = review['at']\n",
    "    userName = review['userName']\n",
    "    reviewText = review['content']\n",
    "    score = review['score']\n",
    "    #can't get title\n",
    "    #can't get isEdited\n",
    "    review_df = pd.DataFrame({'developerResponse': [developerResponse],  'date': [date], 'review': [reviewText], \n",
    "                               'score': [score], 'userName': [userName],'name': [appNames[0]]})\n",
    "    app1_df = pd.concat([app1_df, review_df], ignore_index = True)\n",
    "\n",
    "#second app\n",
    "#adds all the reviews to a dataframe\n",
    "app2_df = pd.DataFrame()\n",
    "result = reviews_all(\n",
    "    appIds[1],\n",
    "    sleep_milliseconds=0, # defaults to 0\n",
    "    lang='en', # defaults to 'en'\n",
    "    country='us', # defaults to 'us'\n",
    "    sort=Sort.MOST_RELEVANT, # defaults to Sort.MOST_RELEVANT\n",
    ")\n",
    "for review in result:\n",
    "    developerResponse = review\n",
    "    date = review['at']\n",
    "    userName = review['userName']\n",
    "    reviewText = review['content']\n",
    "    score = review['score']\n",
    "    #can't get title\n",
    "    #can't get isEdited\n",
    "    review_df = pd.DataFrame({'developerResponse': [developerResponse],  'date': [date], 'review': [reviewText], \n",
    "                               'score': [score], 'userName': [userName],'name': [appNames[1]]})\n",
    "    app2_df = pd.concat([app2_df, review_df], ignore_index = True)\n",
    "\n",
    "#third app\n",
    "#adds all the reviews to a dataframe\n",
    "app3_df = pd.DataFrame()\n",
    "result = reviews_all(\n",
    "    appIds[2],\n",
    "    sleep_milliseconds=0, # defaults to 0\n",
    "    lang='en', # defaults to 'en'\n",
    "    country='us', # defaults to 'us'\n",
    "    sort=Sort.MOST_RELEVANT, # defaults to Sort.MOST_RELEVANT\n",
    ")\n",
    "for review in result:\n",
    "    developerResponse = review\n",
    "    date = review['at']\n",
    "    userName = review['userName']\n",
    "    reviewText = review['content']\n",
    "    score = review['score']\n",
    "    #can't get title\n",
    "    #can't get isEdited\n",
    "    review_df = pd.DataFrame({'developerResponse': [developerResponse],  'date': [date], 'review': [reviewText], \n",
    "                               'score': [score], 'userName': [userName],'name': [appNames[2]]})\n",
    "    app3_df = pd.concat([app3_df, review_df], ignore_index = True)"
   ]
  },
  {
   "cell_type": "code",
   "execution_count": 2,
   "id": "313fd134",
   "metadata": {},
   "outputs": [
    {
     "name": "stderr",
     "output_type": "stream",
     "text": [
      "C:\\Users\\Ryan Jewik\\anaconda3\\lib\\site-packages\\transformers\\pipelines\\text_classification.py:106: UserWarning: `return_all_scores` is now deprecated,  if want a similar functionality use `top_k=None` instead of `return_all_scores=True` or `top_k=1` instead of `return_all_scores=False`.\n",
      "  warnings.warn(\n"
     ]
    }
   ],
   "source": [
    "from transformers import pipeline\n",
    "\n",
    "# Load the emotion detection pipeline\n",
    "emotion_analyzer = pipeline(\"text-classification\", model=\"j-hartmann/emotion-english-distilroberta-base\", return_all_scores=True)\n"
   ]
  },
  {
   "cell_type": "code",
   "execution_count": 7,
   "id": "366a8bd3",
   "metadata": {},
   "outputs": [
    {
     "data": {
      "text/plain": [
       "0        I'm using this in place of workbooks for my pr...\n",
       "1        Amazing!! My grandson will be four in January ...\n",
       "2        This app has been great for supplementing my k...\n",
       "3        I've always been wary of my small babies being...\n",
       "4        Had heard about this app but ended downloading...\n",
       "                               ...                        \n",
       "12704                                                  ❤❤❤\n",
       "12705                                             👌👌👌👌👌👌👌👌\n",
       "12706                                              Wah....\n",
       "12707                                                    👎\n",
       "12708                                                 Um..\n",
       "Name: review, Length: 12709, dtype: object"
      ]
     },
     "execution_count": 7,
     "metadata": {},
     "output_type": "execute_result"
    }
   ],
   "source": [
    "reviewlist = app1_df['review']\n",
    "reviewlist"
   ]
  },
  {
   "cell_type": "code",
   "execution_count": 17,
   "id": "6a4321f8",
   "metadata": {},
   "outputs": [],
   "source": [
    "# Example reviews\n",
    "reviews = app1_df['review']\n",
    "reviews = reviews[:500]\n",
    "length = len(reviews)\n",
    "emotionsdict = {'anger': 0, 'disgust': 0, 'fear': 0, 'joy': 0, 'neutral': 0, 'sadness': 0, 'surprise': 0}\n",
    "emotionsdict['anger']\n",
    "# Analyze emotions\n",
    "emotions_df = pd.DataFrame()"
   ]
  },
  {
   "cell_type": "code",
   "execution_count": 18,
   "id": "1c73c3ff",
   "metadata": {},
   "outputs": [
    {
     "data": {
      "text/plain": [
       "0      I'm using this in place of workbooks for my pr...\n",
       "1      Amazing!! My grandson will be four in January ...\n",
       "2      This app has been great for supplementing my k...\n",
       "3      I've always been wary of my small babies being...\n",
       "4      Had heard about this app but ended downloading...\n",
       "                             ...                        \n",
       "495    اَلسَّلَامُ عَلَيْكُمْ I am unable to sign up....\n",
       "496    My son loved this app and I was feeling satisf...\n",
       "497    We have only been using the app for a week, my...\n",
       "498    My girls age 4 and 5 love this app. I like tha...\n",
       "499    My son is now 4, and has been using Khan Acade...\n",
       "Name: review, Length: 500, dtype: object"
      ]
     },
     "execution_count": 18,
     "metadata": {},
     "output_type": "execute_result"
    }
   ],
   "source": [
    "reviews"
   ]
  },
  {
   "cell_type": "code",
   "execution_count": 14,
   "id": "a803798d",
   "metadata": {},
   "outputs": [
    {
     "data": {
      "text/plain": [
       "'anger'"
      ]
     },
     "execution_count": 14,
     "metadata": {},
     "output_type": "execute_result"
    }
   ],
   "source": [
    "emotions[0][0]['score']"
   ]
  },
  {
   "cell_type": "code",
   "execution_count": 19,
   "id": "17628aca",
   "metadata": {},
   "outputs": [
    {
     "name": "stdout",
     "output_type": "stream",
     "text": [
      "0.02461814825341571\n",
      "0.023305696678115054\n",
      "0.008341294737765565\n",
      "0.04910319732129574\n",
      "0.4813174465986667\n",
      "0.27897429652139544\n",
      "0.13433991945977322\n"
     ]
    }
   ],
   "source": [
    "for review in reviews:\n",
    "    emotions = emotion_analyzer(review)\n",
    "    for emotion in emotions[0]:\n",
    "        review_df[emotion['label']] = emotion['score']\n",
    "    review_df = pd.DataFrame({'review': [review],  'anger': [emotions[0][0]['score']], 'disgust': [emotions[0][1]['score']], \n",
    "                               'fear': [emotions[0][2]['score']], 'joy': [emotions[0][3]['score']],'neutral': [emotions[0][4]['score']],\n",
    "                                'sadness': [emotions[0][5]['score']], 'surprise': [emotions[0][6]['score']]})\n",
    "    emotions_df = pd.concat([emotions_df, review_df], ignore_index = True)\n",
    "print(emotions_df['anger'].mean())\n",
    "print(emotions_df['disgust'].mean())\n",
    "print(emotions_df['fear'].mean())\n",
    "print(emotions_df['sadness'].mean())\n",
    "print(emotions_df['joy'].mean())\n",
    "print(emotions_df['neutral'].mean())\n",
    "print(emotions_df['surprise'].mean())"
   ]
  },
  {
   "cell_type": "code",
   "execution_count": null,
   "id": "b3f6495e",
   "metadata": {},
   "outputs": [],
   "source": []
  }
 ],
 "metadata": {
  "kernelspec": {
   "display_name": "Python 3 (ipykernel)",
   "language": "python",
   "name": "python3"
  },
  "language_info": {
   "codemirror_mode": {
    "name": "ipython",
    "version": 3
   },
   "file_extension": ".py",
   "mimetype": "text/x-python",
   "name": "python",
   "nbconvert_exporter": "python",
   "pygments_lexer": "ipython3",
   "version": "3.9.13"
  }
 },
 "nbformat": 4,
 "nbformat_minor": 5
}
