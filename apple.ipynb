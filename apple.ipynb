{
 "cells": [
  {
   "cell_type": "code",
   "execution_count": 3,
   "id": "761b7579",
   "metadata": {},
   "outputs": [
    {
     "name": "stderr",
     "output_type": "stream",
     "text": [
      "C:\\Users\\Ryan Jewik\\AppData\\Roaming\\Python\\Python39\\site-packages\\pandas\\core\\computation\\expressions.py:21: UserWarning: Pandas requires version '2.8.4' or newer of 'numexpr' (version '2.8.3' currently installed).\n",
      "  from pandas.core.computation.check import NUMEXPR_INSTALLED\n",
      "C:\\Users\\Ryan Jewik\\AppData\\Roaming\\Python\\Python39\\site-packages\\pandas\\core\\arrays\\masked.py:60: UserWarning: Pandas requires version '1.3.6' or newer of 'bottleneck' (version '1.3.5' currently installed).\n",
      "  from pandas.core import (\n"
     ]
    }
   ],
   "source": [
    "from app_store_scraper import AppStore\n",
    "import pandas as pd\n",
    "import random"
   ]
  },
  {
   "cell_type": "code",
   "execution_count": 4,
   "id": "e531511b",
   "metadata": {},
   "outputs": [
    {
     "name": "stderr",
     "output_type": "stream",
     "text": [
      "2024-12-06 13:38:34,632 [INFO] Base - Searching for app id\n",
      "2024-12-06 13:38:35,813 [INFO] Base - Initialised: AppStore('us', 'khan-academy-kids', 1378467217)\n",
      "2024-12-06 13:38:35,813 [INFO] Base - Ready to fetch reviews from: https://apps.apple.com/us/app/khan-academy-kids/id1378467217\n"
     ]
    }
   ],
   "source": [
    "app = AppStore(country=\"us\", app_name=\"Khan Academy Kids\")#, app_id=idlist[idx])\n",
    "app.review()\n",
    "reviews_df = pd.DataFrame(app.reviews)"
   ]
  },
  {
   "cell_type": "code",
   "execution_count": 5,
   "id": "67cc861a",
   "metadata": {},
   "outputs": [
    {
     "name": "stderr",
     "output_type": "stream",
     "text": [
      "2024-12-06 13:39:06,268 [INFO] Base - [id:1378467217] Fetched 1500 reviews (1500 fetched in total)\n",
      "2024-12-06 13:39:26,208 [ERROR] Base - Something went wrong: HTTPSConnectionPool(host='amp-api.apps.apple.com', port=443): Max retries exceeded with url: /v1/catalog/us/apps/1378467217/reviews?l=en-GB&offset=2000&limit=20&platform=web&additionalPlatforms=appletv%2Cipad%2Ciphone%2Cmac (Caused by ResponseError('too many 429 error responses'))\n",
      "2024-12-06 13:39:26,210 [INFO] Base - [id:1378467217] Fetched 2000 reviews (2000 fetched in total)\n"
     ]
    }
   ],
   "source": []
  },
  {
   "cell_type": "code",
   "execution_count": 6,
   "id": "33f7756f",
   "metadata": {},
   "outputs": [],
   "source": []
  },
  {
   "cell_type": "code",
   "execution_count": 7,
   "id": "e232ee01",
   "metadata": {},
   "outputs": [
    {
     "data": {
      "text/html": [
       "<div>\n",
       "<style scoped>\n",
       "    .dataframe tbody tr th:only-of-type {\n",
       "        vertical-align: middle;\n",
       "    }\n",
       "\n",
       "    .dataframe tbody tr th {\n",
       "        vertical-align: top;\n",
       "    }\n",
       "\n",
       "    .dataframe thead th {\n",
       "        text-align: right;\n",
       "    }\n",
       "</style>\n",
       "<table border=\"1\" class=\"dataframe\">\n",
       "  <thead>\n",
       "    <tr style=\"text-align: right;\">\n",
       "      <th></th>\n",
       "      <th>date</th>\n",
       "      <th>developerResponse</th>\n",
       "      <th>review</th>\n",
       "      <th>rating</th>\n",
       "      <th>isEdited</th>\n",
       "      <th>userName</th>\n",
       "      <th>title</th>\n",
       "    </tr>\n",
       "  </thead>\n",
       "  <tbody>\n",
       "    <tr>\n",
       "      <th>0</th>\n",
       "      <td>2023-01-27 09:48:46</td>\n",
       "      <td>{'id': 34575065, 'body': 'We sincerely appreci...</td>\n",
       "      <td>Kahn Academy Kids is the best educational kids...</td>\n",
       "      <td>5</td>\n",
       "      <td>False</td>\n",
       "      <td>Triciaroseyrose</td>\n",
       "      <td>Wow! Just what my kids needed!</td>\n",
       "    </tr>\n",
       "    <tr>\n",
       "      <th>1</th>\n",
       "      <td>2021-01-01 16:18:30</td>\n",
       "      <td>{'id': 20176204, 'body': 'It's exciting to hea...</td>\n",
       "      <td>My daughter(age 7) used Khan Academy in school...</td>\n",
       "      <td>5</td>\n",
       "      <td>False</td>\n",
       "      <td>keeperofthecookies</td>\n",
       "      <td>A+ app for kids!</td>\n",
       "    </tr>\n",
       "    <tr>\n",
       "      <th>2</th>\n",
       "      <td>2024-01-30 17:53:10</td>\n",
       "      <td>{'id': 41714643, 'body': 'It's so exciting to ...</td>\n",
       "      <td>I have used this app for years with all 3 of m...</td>\n",
       "      <td>5</td>\n",
       "      <td>False</td>\n",
       "      <td>Zin468</td>\n",
       "      <td>The Absolute Best</td>\n",
       "    </tr>\n",
       "    <tr>\n",
       "      <th>3</th>\n",
       "      <td>2024-07-23 02:36:02</td>\n",
       "      <td>{'id': 45577529, 'body': 'We're so pleased you...</td>\n",
       "      <td>I don’t even know where to start! I am so impr...</td>\n",
       "      <td>5</td>\n",
       "      <td>False</td>\n",
       "      <td>tinabeanababy</td>\n",
       "      <td>Absolutely blown away! They are partnered with...</td>\n",
       "    </tr>\n",
       "    <tr>\n",
       "      <th>4</th>\n",
       "      <td>2020-09-10 21:56:42</td>\n",
       "      <td>{'id': 17878584, 'body': 'Our design team will...</td>\n",
       "      <td>My 4-year-old has been cruising through severa...</td>\n",
       "      <td>5</td>\n",
       "      <td>False</td>\n",
       "      <td>CrocoPhile</td>\n",
       "      <td>Very well-designed for actual learning</td>\n",
       "    </tr>\n",
       "  </tbody>\n",
       "</table>\n",
       "</div>"
      ],
      "text/plain": [
       "                 date                                  developerResponse  \\\n",
       "0 2023-01-27 09:48:46  {'id': 34575065, 'body': 'We sincerely appreci...   \n",
       "1 2021-01-01 16:18:30  {'id': 20176204, 'body': 'It's exciting to hea...   \n",
       "2 2024-01-30 17:53:10  {'id': 41714643, 'body': 'It's so exciting to ...   \n",
       "3 2024-07-23 02:36:02  {'id': 45577529, 'body': 'We're so pleased you...   \n",
       "4 2020-09-10 21:56:42  {'id': 17878584, 'body': 'Our design team will...   \n",
       "\n",
       "                                              review  rating  isEdited  \\\n",
       "0  Kahn Academy Kids is the best educational kids...       5     False   \n",
       "1  My daughter(age 7) used Khan Academy in school...       5     False   \n",
       "2  I have used this app for years with all 3 of m...       5     False   \n",
       "3  I don’t even know where to start! I am so impr...       5     False   \n",
       "4  My 4-year-old has been cruising through severa...       5     False   \n",
       "\n",
       "             userName                                              title  \n",
       "0     Triciaroseyrose                     Wow! Just what my kids needed!  \n",
       "1  keeperofthecookies                                   A+ app for kids!  \n",
       "2              Zin468                                  The Absolute Best  \n",
       "3       tinabeanababy  Absolutely blown away! They are partnered with...  \n",
       "4          CrocoPhile             Very well-designed for actual learning  "
      ]
     },
     "execution_count": 7,
     "metadata": {},
     "output_type": "execute_result"
    }
   ],
   "source": [
    "reviews_df.head()"
   ]
  },
  {
   "cell_type": "code",
   "execution_count": 11,
   "id": "54c2f083",
   "metadata": {},
   "outputs": [
    {
     "name": "stdout",
     "output_type": "stream",
     "text": [
      "App Name: Khan Academy Kids\n",
      "Developer: Khan Academy\n",
      "Price: Free\n",
      "URL: https://apps.apple.com/us/app/khan-academy-kids/id1378467217?uo=4\n",
      "\n",
      "App Name: Khan Academy\n",
      "Developer: Khan Academy\n",
      "Price: Free\n",
      "URL: https://apps.apple.com/us/app/khan-academy/id469863705?uo=4\n",
      "\n",
      "App Name: ABC Kids Tracing & Games 3-5\n",
      "Developer: Rabia Aslam\n",
      "Price: Free\n",
      "URL: https://apps.apple.com/us/app/abc-kids-tracing-games-3-5/id6480420102?uo=4\n",
      "\n",
      "App Name: Duolingo - Language Lessons\n",
      "Developer: Duolingo, Inc\n",
      "Price: Free\n",
      "URL: https://apps.apple.com/us/app/duolingo-language-lessons/id570060128?uo=4\n",
      "\n",
      "App Name: Educational games kids 2-3-4-5\n",
      "Developer: Kids Academy Co apps: Preschool & Kindergarten Learning Kids Games, Educational Books, Free Songs\n",
      "Price: Free\n",
      "URL: https://apps.apple.com/us/app/educational-games-kids-2-3-4-5/id639384857?uo=4\n",
      "\n",
      "App Name: Kids Drawing Games 6 year olds\n",
      "Developer: TEACH & DRAW LTD\n",
      "Price: Free\n",
      "URL: https://apps.apple.com/us/app/kids-drawing-games-6-year-olds/id1436397693?uo=4\n",
      "\n"
     ]
    }
   ],
   "source": [
    "import requests\n",
    "\n",
    "def search_app_store(query, country=\"us\", limit=5):\n",
    "    url = \"https://itunes.apple.com/search\"\n",
    "    params = {\n",
    "        \"term\": query,          # Search term\n",
    "        \"country\": country,     # Country code (e.g., \"us\" for United States)\n",
    "        \"media\": \"software\",    # Search for apps\n",
    "        \"limit\": limit          # Number of results to return\n",
    "    }\n",
    "    response = requests.get(url, params=params)\n",
    "    \n",
    "    if response.status_code == 200:\n",
    "        return response.json()  # Returns a JSON response\n",
    "    else:\n",
    "        raise Exception(f\"Error: {response.status_code}\")\n",
    "\n",
    "# Example Usage\n",
    "results = search_app_store(\"Khan Academy Kids\")\n",
    "for app in results[\"results\"]:\n",
    "    print(f\"App Name: {app['trackName']}\")\n",
    "    print(f\"Developer: {app['sellerName']}\")\n",
    "    print(f\"Price: {app['formattedPrice']}\")\n",
    "    print(f\"URL: {app['trackViewUrl']}\\n\")\n"
   ]
  },
  {
   "cell_type": "code",
   "execution_count": 15,
   "id": "e5f05822",
   "metadata": {},
   "outputs": [
    {
     "data": {
      "text/plain": [
       "'Khan Academy'"
      ]
     },
     "execution_count": 15,
     "metadata": {},
     "output_type": "execute_result"
    }
   ],
   "source": [
    "results['results'][1]['trackName']"
   ]
  },
  {
   "cell_type": "code",
   "execution_count": 16,
   "id": "6fc15ec8",
   "metadata": {},
   "outputs": [
    {
     "name": "stderr",
     "output_type": "stream",
     "text": [
      "2024-12-06 13:44:06,943 [INFO] Base - Searching for app id\n",
      "2024-12-06 13:44:08,697 [INFO] Base - Initialised: AppStore('us', 'khan-academy-kids', 1378467217)\n",
      "2024-12-06 13:44:08,698 [INFO] Base - Ready to fetch reviews from: https://apps.apple.com/us/app/khan-academy-kids/id1378467217\n",
      "2024-12-06 13:44:13,758 [INFO] Base - [id:1378467217] Fetched 920 reviews (920 fetched in total)\n",
      "2024-12-06 13:44:18,898 [INFO] Base - [id:1378467217] Fetched 1820 reviews (1820 fetched in total)\n",
      "2024-12-06 13:44:38,104 [ERROR] Base - Something went wrong: HTTPSConnectionPool(host='amp-api.apps.apple.com', port=443): Max retries exceeded with url: /v1/catalog/us/apps/1378467217/reviews?l=en-GB&offset=2000&limit=20&platform=web&additionalPlatforms=appletv%2Cipad%2Ciphone%2Cmac (Caused by ResponseError('too many 429 error responses'))\n",
      "2024-12-06 13:44:38,106 [INFO] Base - [id:1378467217] Fetched 2000 reviews (2000 fetched in total)\n",
      "2024-12-06 13:44:38,110 [INFO] Base - Searching for app id\n",
      "2024-12-06 13:44:39,156 [INFO] Base - Initialised: AppStore('us', 'khan-academy', 469863705)\n",
      "2024-12-06 13:44:39,156 [INFO] Base - Ready to fetch reviews from: https://apps.apple.com/us/app/khan-academy/id469863705\n",
      "2024-12-06 13:44:57,465 [ERROR] Base - Something went wrong: HTTPSConnectionPool(host='amp-api.apps.apple.com', port=443): Max retries exceeded with url: /v1/catalog/us/apps/469863705/reviews?l=en-GB&offset=0&limit=20&platform=web&additionalPlatforms=appletv%2Cipad%2Ciphone%2Cmac (Caused by ResponseError('too many 429 error responses'))\n",
      "2024-12-06 13:44:57,466 [INFO] Base - [id:469863705] Fetched 0 reviews (0 fetched in total)\n",
      "2024-12-06 13:44:57,468 [INFO] Base - Searching for app id\n",
      "2024-12-06 13:44:58,434 [INFO] Base - Initialised: AppStore('us', 'abc-kids-tracing-games-3-5', 6480420102)\n",
      "2024-12-06 13:44:58,434 [INFO] Base - Ready to fetch reviews from: https://apps.apple.com/us/app/abc-kids-tracing-games-3-5/id6480420102\n",
      "2024-12-06 13:45:16,574 [ERROR] Base - Something went wrong: HTTPSConnectionPool(host='amp-api.apps.apple.com', port=443): Max retries exceeded with url: /v1/catalog/us/apps/6480420102/reviews?l=en-GB&offset=0&limit=20&platform=web&additionalPlatforms=appletv%2Cipad%2Ciphone%2Cmac (Caused by ResponseError('too many 429 error responses'))\n",
      "2024-12-06 13:45:16,575 [INFO] Base - [id:6480420102] Fetched 0 reviews (0 fetched in total)\n"
     ]
    }
   ],
   "source": [
    "app1 = AppStore(country=\"us\", app_name=results['results'][0]['trackName'])#, app_id=idlist[idx])\n",
    "app1.review()\n",
    "reviews_df1 = pd.DataFrame(app1.reviews)\n",
    "app2 = AppStore(country=\"us\", app_name=results['results'][1]['trackName'])#, app_id=idlist[idx])\n",
    "app2.review()\n",
    "reviews_df2 = pd.DataFrame(app2.reviews)\n",
    "app3 = AppStore(country=\"us\", app_name=results['results'][2]['trackName'])#, app_id=idlist[idx])\n",
    "app3.review()\n",
    "reviews_df3 = pd.DataFrame(app3.reviews)"
   ]
  },
  {
   "cell_type": "code",
   "execution_count": 19,
   "id": "24957b36",
   "metadata": {},
   "outputs": [],
   "source": [
    "reviews_df1['name'] = results['results'][0]['trackName']\n",
    "reviews_df2['name'] = results['results'][1]['trackName']\n",
    "reviews_df3['name'] = results['results'][2]['trackName']"
   ]
  },
  {
   "cell_type": "code",
   "execution_count": 20,
   "id": "06f6d037",
   "metadata": {},
   "outputs": [
    {
     "data": {
      "text/html": [
       "<div>\n",
       "<style scoped>\n",
       "    .dataframe tbody tr th:only-of-type {\n",
       "        vertical-align: middle;\n",
       "    }\n",
       "\n",
       "    .dataframe tbody tr th {\n",
       "        vertical-align: top;\n",
       "    }\n",
       "\n",
       "    .dataframe thead th {\n",
       "        text-align: right;\n",
       "    }\n",
       "</style>\n",
       "<table border=\"1\" class=\"dataframe\">\n",
       "  <thead>\n",
       "    <tr style=\"text-align: right;\">\n",
       "      <th></th>\n",
       "      <th>date</th>\n",
       "      <th>developerResponse</th>\n",
       "      <th>review</th>\n",
       "      <th>rating</th>\n",
       "      <th>isEdited</th>\n",
       "      <th>title</th>\n",
       "      <th>userName</th>\n",
       "      <th>name</th>\n",
       "    </tr>\n",
       "  </thead>\n",
       "  <tbody>\n",
       "    <tr>\n",
       "      <th>0</th>\n",
       "      <td>2023-01-27 09:48:46</td>\n",
       "      <td>{'id': 34575065, 'body': 'We sincerely appreci...</td>\n",
       "      <td>Kahn Academy Kids is the best educational kids...</td>\n",
       "      <td>5</td>\n",
       "      <td>False</td>\n",
       "      <td>Wow! Just what my kids needed!</td>\n",
       "      <td>Triciaroseyrose</td>\n",
       "      <td>Khan Academy Kids</td>\n",
       "    </tr>\n",
       "    <tr>\n",
       "      <th>1</th>\n",
       "      <td>2021-01-01 16:18:30</td>\n",
       "      <td>{'id': 20176204, 'body': 'It's exciting to hea...</td>\n",
       "      <td>My daughter(age 7) used Khan Academy in school...</td>\n",
       "      <td>5</td>\n",
       "      <td>False</td>\n",
       "      <td>A+ app for kids!</td>\n",
       "      <td>keeperofthecookies</td>\n",
       "      <td>Khan Academy Kids</td>\n",
       "    </tr>\n",
       "    <tr>\n",
       "      <th>2</th>\n",
       "      <td>2024-01-30 17:53:10</td>\n",
       "      <td>{'id': 41714643, 'body': 'It's so exciting to ...</td>\n",
       "      <td>I have used this app for years with all 3 of m...</td>\n",
       "      <td>5</td>\n",
       "      <td>False</td>\n",
       "      <td>The Absolute Best</td>\n",
       "      <td>Zin468</td>\n",
       "      <td>Khan Academy Kids</td>\n",
       "    </tr>\n",
       "    <tr>\n",
       "      <th>3</th>\n",
       "      <td>2024-07-23 02:36:02</td>\n",
       "      <td>{'id': 45577529, 'body': 'We're so pleased you...</td>\n",
       "      <td>I don’t even know where to start! I am so impr...</td>\n",
       "      <td>5</td>\n",
       "      <td>False</td>\n",
       "      <td>Absolutely blown away! They are partnered with...</td>\n",
       "      <td>tinabeanababy</td>\n",
       "      <td>Khan Academy Kids</td>\n",
       "    </tr>\n",
       "    <tr>\n",
       "      <th>4</th>\n",
       "      <td>2020-09-10 21:56:42</td>\n",
       "      <td>{'id': 17878584, 'body': 'Our design team will...</td>\n",
       "      <td>My 4-year-old has been cruising through severa...</td>\n",
       "      <td>5</td>\n",
       "      <td>False</td>\n",
       "      <td>Very well-designed for actual learning</td>\n",
       "      <td>CrocoPhile</td>\n",
       "      <td>Khan Academy Kids</td>\n",
       "    </tr>\n",
       "  </tbody>\n",
       "</table>\n",
       "</div>"
      ],
      "text/plain": [
       "                 date                                  developerResponse  \\\n",
       "0 2023-01-27 09:48:46  {'id': 34575065, 'body': 'We sincerely appreci...   \n",
       "1 2021-01-01 16:18:30  {'id': 20176204, 'body': 'It's exciting to hea...   \n",
       "2 2024-01-30 17:53:10  {'id': 41714643, 'body': 'It's so exciting to ...   \n",
       "3 2024-07-23 02:36:02  {'id': 45577529, 'body': 'We're so pleased you...   \n",
       "4 2020-09-10 21:56:42  {'id': 17878584, 'body': 'Our design team will...   \n",
       "\n",
       "                                              review  rating  isEdited  \\\n",
       "0  Kahn Academy Kids is the best educational kids...       5     False   \n",
       "1  My daughter(age 7) used Khan Academy in school...       5     False   \n",
       "2  I have used this app for years with all 3 of m...       5     False   \n",
       "3  I don’t even know where to start! I am so impr...       5     False   \n",
       "4  My 4-year-old has been cruising through severa...       5     False   \n",
       "\n",
       "                                               title            userName  \\\n",
       "0                     Wow! Just what my kids needed!     Triciaroseyrose   \n",
       "1                                   A+ app for kids!  keeperofthecookies   \n",
       "2                                  The Absolute Best              Zin468   \n",
       "3  Absolutely blown away! They are partnered with...       tinabeanababy   \n",
       "4             Very well-designed for actual learning          CrocoPhile   \n",
       "\n",
       "                name  \n",
       "0  Khan Academy Kids  \n",
       "1  Khan Academy Kids  \n",
       "2  Khan Academy Kids  \n",
       "3  Khan Academy Kids  \n",
       "4  Khan Academy Kids  "
      ]
     },
     "execution_count": 20,
     "metadata": {},
     "output_type": "execute_result"
    }
   ],
   "source": [
    "reviews_df1.head()"
   ]
  },
  {
   "cell_type": "code",
   "execution_count": null,
   "id": "051027a4",
   "metadata": {},
   "outputs": [],
   "source": []
  }
 ],
 "metadata": {
  "kernelspec": {
   "display_name": "Python 3 (ipykernel)",
   "language": "python",
   "name": "python3"
  },
  "language_info": {
   "codemirror_mode": {
    "name": "ipython",
    "version": 3
   },
   "file_extension": ".py",
   "mimetype": "text/x-python",
   "name": "python",
   "nbconvert_exporter": "python",
   "pygments_lexer": "ipython3",
   "version": "3.9.13"
  }
 },
 "nbformat": 4,
 "nbformat_minor": 5
}
