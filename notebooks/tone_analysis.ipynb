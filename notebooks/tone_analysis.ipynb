{
 "cells": [
  {
   "cell_type": "code",
   "execution_count": 109,
   "id": "58341752",
   "metadata": {},
   "outputs": [],
   "source": [
    "import torch\n",
    "from transformers import pipeline\n",
    "import pandas as pd\n",
    "import numpy as np\n",
    "import nltk\n",
    "from nltk.tokenize import sent_tokenize\n",
    "import matplotlib.pyplot as plt\n",
    "import seaborn as sns\n",
    "from transformers import AutoModelForSequenceClassification, AutoTokenizer, Trainer, TrainingArguments\n",
    "from datasets import load_dataset, Dataset\n",
    "from sklearn.model_selection import train_test_split\n",
    "from peft import LoraConfig, get_peft_model, prepare_model_for_kbit_training\n",
    "import json\n",
    "import torch.nn.functional as F\n",
    "from datetime import date\n"
   ]
  },
  {
   "cell_type": "code",
   "execution_count": 140,
   "id": "d7cd7838",
   "metadata": {},
   "outputs": [],
   "source": [
    "# Show full content of the column\n",
    "pd.set_option('display.max_colwidth', 10)\n",
    "pd.set_option('display.max_rows', 30)"
   ]
  },
  {
   "cell_type": "code",
   "execution_count": 111,
   "id": "34df3eb9",
   "metadata": {},
   "outputs": [
    {
     "name": "stderr",
     "output_type": "stream",
     "text": [
      "[nltk_data] Downloading package punkt_tab to /home/bbae/nltk_data...\n",
      "[nltk_data]   Package punkt_tab is already up-to-date!\n"
     ]
    },
    {
     "data": {
      "text/plain": [
       "True"
      ]
     },
     "execution_count": 111,
     "metadata": {},
     "output_type": "execute_result"
    }
   ],
   "source": [
    "# Download necessary NLTK resources\n",
    "nltk.download('punkt_tab')"
   ]
  },
  {
   "cell_type": "code",
   "execution_count": 112,
   "id": "23cc25c7",
   "metadata": {},
   "outputs": [
    {
     "name": "stdout",
     "output_type": "stream",
     "text": [
      "cuda\n"
     ]
    }
   ],
   "source": [
    "device = torch.device(\"cuda\" if torch.cuda.is_available() else \"cpu\")\n",
    "print(device)"
   ]
  },
  {
   "cell_type": "code",
   "execution_count": 113,
   "id": "ca2a1ea7",
   "metadata": {},
   "outputs": [],
   "source": [
    "appstore_df = pd.read_csv(\"data/appstore_reviews.csv\")"
   ]
  },
  {
   "cell_type": "code",
   "execution_count": 114,
   "id": "6186363c",
   "metadata": {},
   "outputs": [
    {
     "data": {
      "text/plain": [
       "(7163, 15)"
      ]
     },
     "execution_count": 114,
     "metadata": {},
     "output_type": "execute_result"
    }
   ],
   "source": [
    "appstore_df.shape"
   ]
  },
  {
   "cell_type": "code",
   "execution_count": 115,
   "id": "824d1746",
   "metadata": {},
   "outputs": [
    {
     "data": {
      "text/plain": [
       "id                              int64\n",
       "type                           object\n",
       "offset                        float64\n",
       "n_batch                       float64\n",
       "app_id                          int64\n",
       "date                           object\n",
       "developerResponse.id          float64\n",
       "developerResponse.body         object\n",
       "developerResponse.modified     object\n",
       "review                         object\n",
       "rating                        float64\n",
       "isEdited                         bool\n",
       "userName                       object\n",
       "title                          object\n",
       "name                           object\n",
       "dtype: object"
      ]
     },
     "execution_count": 115,
     "metadata": {},
     "output_type": "execute_result"
    }
   ],
   "source": [
    "appstore_df.dtypes"
   ]
  },
  {
   "cell_type": "code",
   "execution_count": null,
   "id": "4f4c7471",
   "metadata": {},
   "outputs": [
    {
     "data": {
      "image/png": "[encoded data removed]",
      "text/plain": [
       "<Figure size 640x480 with 1 Axes>"
      ]
     },
     "metadata": {},
     "output_type": "display_data"
    }
   ],
   "source": [
    "# Create a figure and axis object\n",
    "fig, ax = plt.subplots()\n",
    "\n",
    "# Histogram of the length of reviews\n",
    "ax.hist(appstore_df[\"review\"].str.len(), bins=50)\n",
    "\n",
    "# Set the title, x-label, and y-label\n",
    "ax.set_title(\"Histogram of Review Lengths\")\n",
    "ax.set_xlabel(\"Review Length (words)\")\n",
    "ax.set_ylabel(\"Frequency\")\n",
    "\n",
    "# Show the plot\n",
    "plt.show()"
   ]
  },
  {
   "cell_type": "code",
   "execution_count": 117,
   "id": "a969ab0e",
   "metadata": {},
   "outputs": [],
   "source": [
    "cleaned_appstore = appstore_df.loc[appstore_df[\"review\"].str.len() > 2]"
   ]
  },
  {
   "cell_type": "code",
   "execution_count": 118,
   "id": "4cabc962",
   "metadata": {},
   "outputs": [
    {
     "data": {
      "text/plain": [
       "(7163, 15)"
      ]
     },
     "execution_count": 118,
     "metadata": {},
     "output_type": "execute_result"
    }
   ],
   "source": [
    "cleaned_appstore.shape"
   ]
  },
  {
   "cell_type": "code",
   "execution_count": 12,
   "id": "f67ab81d",
   "metadata": {},
   "outputs": [
    {
     "name": "stderr",
     "output_type": "stream",
     "text": [
      "Device set to use cuda\n",
      "/home/bbae/miniconda3/envs/mgscfinal/lib/python3.11/site-packages/transformers/pipelines/text_classification.py:106: UserWarning: `return_all_scores` is now deprecated,  if want a similar functionality use `top_k=None` instead of `return_all_scores=True` or `top_k=1` instead of `return_all_scores=False`.\n",
      "  warnings.warn(\n"
     ]
    },
    {
     "name": "stdout",
     "output_type": "stream",
     "text": [
      "Review: I absolutely love this app! It's so intuitive and helpful.\n",
      "Emotions:\n",
      "  anger: 0.00\n",
      "  disgust: 0.00\n",
      "  fear: 0.00\n",
      "  joy: 0.94\n",
      "  neutral: 0.03\n",
      "  sadness: 0.00\n",
      "  surprise: 0.02\n",
      "\n",
      "Review: I'm so frustrated! It crashes every time I try to use it.\n",
      "Emotions:\n",
      "  anger: 0.95\n",
      "  disgust: 0.01\n",
      "  fear: 0.00\n",
      "  joy: 0.00\n",
      "  neutral: 0.01\n",
      "  sadness: 0.02\n",
      "  surprise: 0.01\n",
      "\n",
      "Review: This update is okay, but I expected more features.\n",
      "Emotions:\n",
      "  anger: 0.01\n",
      "  disgust: 0.01\n",
      "  fear: 0.01\n",
      "  joy: 0.03\n",
      "  neutral: 0.81\n",
      "  sadness: 0.07\n",
      "  surprise: 0.06\n",
      "\n",
      "Review: The customer support team is amazing and very responsive.\n",
      "Emotions:\n",
      "  anger: 0.01\n",
      "  disgust: 0.01\n",
      "  fear: 0.01\n",
      "  joy: 0.08\n",
      "  neutral: 0.27\n",
      "  sadness: 0.00\n",
      "  surprise: 0.63\n",
      "\n",
      "Review: I'm disappointed by the recent changes. They made the app worse.\n",
      "Emotions:\n",
      "  anger: 0.05\n",
      "  disgust: 0.82\n",
      "  fear: 0.00\n",
      "  joy: 0.00\n",
      "  neutral: 0.03\n",
      "  sadness: 0.09\n",
      "  surprise: 0.00\n",
      "\n"
     ]
    }
   ],
   "source": [
    "# Load the emotion detection pipeline\n",
    "emotion_analyzer = pipeline(\"text-classification\", model=\"j-hartmann/emotion-english-distilroberta-base\", return_all_scores=True, device=device)\n",
    "\n",
    "# Example reviews\n",
    "reviews = [\n",
    "    \"I absolutely love this app! It's so intuitive and helpful.\",\n",
    "    \"I'm so frustrated! It crashes every time I try to use it.\",\n",
    "    \"This update is okay, but I expected more features.\",\n",
    "    \"The customer support team is amazing and very responsive.\",\n",
    "    \"I'm disappointed by the recent changes. They made the app worse.\"\n",
    "]\n",
    "\n",
    "# Analyze emotions\n",
    "for review in reviews:\n",
    "    emotions = emotion_analyzer(review)\n",
    "    print(f\"Review: {review}\")\n",
    "    print(\"Emotions:\")\n",
    "    for emotion in emotions[0]:\n",
    "        print(f\"  {emotion['label']}: {emotion['score']:.2f}\")\n",
    "    print()\n"
   ]
  },
  {
   "cell_type": "code",
   "execution_count": 13,
   "id": "25f49017",
   "metadata": {},
   "outputs": [
    {
     "name": "stderr",
     "output_type": "stream",
     "text": [
      "Device set to use cuda\n"
     ]
    }
   ],
   "source": [
    "classifier = pipeline(task=\"text-classification\", model=\"SamLowe/roberta-base-go_emotions\", top_k=None, device=device)"
   ]
  },
  {
   "cell_type": "code",
   "execution_count": 14,
   "id": "df092b52",
   "metadata": {},
   "outputs": [],
   "source": [
    "def classify_text(text):\n",
    "    # Perform classification\n",
    "    results = classifier(text)\n",
    "    \n",
    "    # Flatten and sort results\n",
    "    flat_results = results[0]  # Assuming first list contains results\n",
    "    sorted_results = sorted(flat_results, key=lambda x: x['score'], reverse=True)\n",
    "    \n",
    "    # Top category\n",
    "    top_category = sorted_results[0]['label']\n",
    "    top_score = sorted_results[0]['score']\n",
    "    \n",
    "    # All categories as a dictionary\n",
    "    category_scores = {result['label']: result['score'] for result in sorted_results}\n",
    "    \n",
    "    return {\n",
    "        'top_category': top_category,\n",
    "        'top_score': top_score,\n",
    "        'all_categories': category_scores\n",
    "    }"
   ]
  },
  {
   "cell_type": "code",
   "execution_count": 15,
   "id": "5152b8bd",
   "metadata": {},
   "outputs": [
    {
     "name": "stdout",
     "output_type": "stream",
     "text": [
      "Review: I absolutely love this app! It's so intuitive and helpful.\n",
      "Top Category: love\n",
      "Top Score: 0.8320332169532776\n",
      "All Categories: {'love': 0.8320332169532776, 'admiration': 0.6481373310089111, 'approval': 0.06095840409398079, 'joy': 0.029382651671767235, 'gratitude': 0.012897741980850697, 'neutral': 0.008108608424663544, 'optimism': 0.006919011007994413, 'realization': 0.005853550508618355, 'excitement': 0.005764655768871307, 'caring': 0.005033276043832302, 'disapproval': 0.0049604373052716255, 'annoyance': 0.003059523878619075, 'confusion': 0.002897158032283187, 'desire': 0.0027606149669736624, 'disappointment': 0.0026452546007931232, 'sadness': 0.0021772554609924555, 'anger': 0.0021054015960544348, 'pride': 0.001994854072108865, 'surprise': 0.0019023247295990586, 'amusement': 0.001791193033568561, 'curiosity': 0.0017314654542133212, 'relief': 0.001094500650651753, 'disgust': 0.0010828411905094981, 'remorse': 0.0009183261427097023, 'fear': 0.0007056392496451735, 'embarrassment': 0.00045402630348689854, 'grief': 0.0004359038721304387, 'nervousness': 0.00036380658275447786}\n",
      "Review: I'm so frustrated! It crashes every time I try to use it.\n",
      "Top Category: annoyance\n",
      "Top Score: 0.6123842597007751\n",
      "All Categories: {'annoyance': 0.6123842597007751, 'anger': 0.3562646210193634, 'disappointment': 0.12050189077854156, 'neutral': 0.06591203063726425, 'disapproval': 0.05600983276963234, 'sadness': 0.01456470601260662, 'approval': 0.012342382222414017, 'confusion': 0.009758698754012585, 'realization': 0.008897908963263035, 'disgust': 0.00748503627255559, 'caring': 0.006229977589100599, 'optimism': 0.005686842370778322, 'curiosity': 0.005426856689155102, 'joy': 0.003663269802927971, 'desire': 0.003614886198192835, 'embarrassment': 0.0031085547525435686, 'nervousness': 0.002722813282161951, 'admiration': 0.0022698421962559223, 'excitement': 0.001730858813971281, 'surprise': 0.0016676292289048433, 'love': 0.0015310279559344053, 'gratitude': 0.0014924407005310059, 'fear': 0.0013884169748052955, 'amusement': 0.0013567189453169703, 'remorse': 0.001305363024584949, 'grief': 0.0010814736597239971, 'relief': 0.0009228261769749224, 'pride': 0.0008822359377518296}\n",
      "Review: This update is okay, but I expected more features.\n",
      "Top Category: approval\n",
      "Top Score: 0.48603251576423645\n",
      "All Categories: {'approval': 0.48603251576423645, 'neutral': 0.33897966146469116, 'desire': 0.06304669380187988, 'optimism': 0.05146704986691475, 'realization': 0.019221147522330284, 'excitement': 0.009558121673762798, 'curiosity': 0.005840168334543705, 'admiration': 0.005807552020996809, 'annoyance': 0.005251121707260609, 'disapproval': 0.004207003396004438, 'disappointment': 0.0035337412264198065, 'confusion': 0.0035164107102900743, 'love': 0.00294724409468472, 'joy': 0.0023114439100027084, 'surprise': 0.0019417132716625929, 'caring': 0.001661874819546938, 'disgust': 0.0015957655850797892, 'amusement': 0.0011762870708480477, 'relief': 0.0011715954169631004, 'gratitude': 0.0011543119326233864, 'fear': 0.0008427217835560441, 'sadness': 0.000761921692173928, 'pride': 0.0007566765998490155, 'nervousness': 0.0006261100643314421, 'anger': 0.0006060359301045537, 'embarrassment': 0.00035833686706610024, 'remorse': 0.00031958604813553393, 'grief': 0.000255474413279444}\n",
      "Review: The customer support team is amazing and very responsive.\n",
      "Top Category: admiration\n",
      "Top Score: 0.9346057176589966\n",
      "All Categories: {'admiration': 0.9346057176589966, 'approval': 0.07510624080896378, 'neutral': 0.044917985796928406, 'gratitude': 0.014409298077225685, 'realization': 0.007991683669388294, 'pride': 0.006509997416287661, 'excitement': 0.006167782004922628, 'optimism': 0.0054206387139856815, 'caring': 0.00533215282484889, 'annoyance': 0.005205789115279913, 'joy': 0.0044067795388400555, 'disapproval': 0.004291407763957977, 'disappointment': 0.004135209135711193, 'surprise': 0.003125453134998679, 'sadness': 0.0025210571475327015, 'love': 0.0019309617346152663, 'curiosity': 0.0019093359587714076, 'desire': 0.0018738857470452785, 'relief': 0.0017971341731026769, 'anger': 0.00170116126537323, 'confusion': 0.0010248119942843914, 'disgust': 0.0008032867917791009, 'amusement': 0.0007842211634851992, 'grief': 0.0006801685667596757, 'remorse': 0.0006058273720555007, 'fear': 0.0005677419248968363, 'embarrassment': 0.0005101411952637136, 'nervousness': 0.0002634309057611972}\n",
      "Review: I'm disappointed by the recent changes. They made the app worse.\n",
      "Top Category: disappointment\n",
      "Top Score: 0.852020800113678\n",
      "All Categories: {'disappointment': 0.852020800113678, 'annoyance': 0.1383318454027176, 'disapproval': 0.09743048995733261, 'neutral': 0.0715884119272232, 'sadness': 0.0698619857430458, 'realization': 0.014224845916032791, 'anger': 0.011715171858668327, 'approval': 0.010967705398797989, 'optimism': 0.010305906645953655, 'disgust': 0.010086697526276112, 'embarrassment': 0.009314310736954212, 'confusion': 0.007085342891514301, 'love': 0.0068302880972623825, 'remorse': 0.00629822863265872, 'desire': 0.005310981068760157, 'admiration': 0.005081405863165855, 'surprise': 0.0050035989843308926, 'curiosity': 0.0044662319123744965, 'nervousness': 0.0037134590093046427, 'joy': 0.0026564989238977432, 'excitement': 0.0024769396986812353, 'grief': 0.002154264599084854, 'caring': 0.0020678371656686068, 'fear': 0.002016100101172924, 'relief': 0.0016490592388436198, 'gratitude': 0.0011503619607537985, 'amusement': 0.001149829477071762, 'pride': 0.0006329301977530122}\n"
     ]
    }
   ],
   "source": [
    "# sentences = first_5_reviews\n",
    "\n",
    "# Example reviews\n",
    "reviews = [\n",
    "    \"I absolutely love this app! It's so intuitive and helpful.\",\n",
    "    \"I'm so frustrated! It crashes every time I try to use it.\",\n",
    "    \"This update is okay, but I expected more features.\",\n",
    "    \"The customer support team is amazing and very responsive.\",\n",
    "    \"I'm disappointed by the recent changes. They made the app worse.\"\n",
    "]\n",
    "\n",
    "for review in reviews:\n",
    "    print(\"Review:\", review)\n",
    "    classification_result = classify_text(review)\n",
    "    # Print results\n",
    "    print(\"Top Category:\", classification_result['top_category'])\n",
    "    print(\"Top Score:\", classification_result['top_score'])\n",
    "    print(\"All Categories:\", classification_result['all_categories'])"
   ]
  },
  {
   "cell_type": "markdown",
   "id": "42506b3a",
   "metadata": {},
   "source": [
    "Test Run"
   ]
  },
  {
   "cell_type": "code",
   "execution_count": null,
   "id": "4df6f605",
   "metadata": {},
   "outputs": [],
   "source": [
    "app_store_reviews = cleaned_appstore[\"review\"]\n",
    "\n",
    "# List to store reviews and their average scores\n",
    "review_data = []\n",
    "\n",
    "def process_review(review):\n",
    "    # Split and classify\n",
    "    sentences = sent_tokenize(review)\n",
    "    sentence_scores = []\n",
    "    for sentence in sentences:\n",
    "        # classifier returns list of dicts that have only one emotion key and corresponding score in each dict\n",
    "        results = classifier(sentence)[0]\n",
    "        # Convert the list of dictionaries into a single dictionary\n",
    "        dict_scores = {d['label']: d['score'] for d in results}\n",
    "        sentence_scores.append(dict_scores)\n",
    "    \n",
    "    # Create a DataFrame from the sentence scores\n",
    "    scores_df = pd.DataFrame(sentence_scores)\n",
    "    \n",
    "    # Compute average scores for each emotion category\n",
    "    average_scores = scores_df.mean(numeric_only=True, axis=0)\n",
    "    return average_scores\n",
    "    \n",
    "# Apply processing to each review\n",
    "emotion_averages = cleaned_appstore[\"review\"].apply(process_review)"
   ]
  },
  {
   "cell_type": "code",
   "execution_count": 35,
   "id": "f33efc38",
   "metadata": {},
   "outputs": [
    {
     "data": {
      "text/html": [
       "<div>\n",
       "<style scoped>\n",
       "    .dataframe tbody tr th:only-of-type {\n",
       "        vertical-align: middle;\n",
       "    }\n",
       "\n",
       "    .dataframe tbody tr th {\n",
       "        vertical-align: top;\n",
       "    }\n",
       "\n",
       "    .dataframe thead th {\n",
       "        text-align: right;\n",
       "    }\n",
       "</style>\n",
       "<table border=\"1\" class=\"dataframe\">\n",
       "  <thead>\n",
       "    <tr style=\"text-align: right;\">\n",
       "      <th></th>\n",
       "      <th>neutral</th>\n",
       "      <th>approval</th>\n",
       "      <th>realization</th>\n",
       "      <th>annoyance</th>\n",
       "      <th>disappointment</th>\n",
       "      <th>optimism</th>\n",
       "      <th>disapproval</th>\n",
       "      <th>admiration</th>\n",
       "      <th>sadness</th>\n",
       "      <th>confusion</th>\n",
       "      <th>...</th>\n",
       "      <th>love</th>\n",
       "      <th>surprise</th>\n",
       "      <th>curiosity</th>\n",
       "      <th>gratitude</th>\n",
       "      <th>embarrassment</th>\n",
       "      <th>anger</th>\n",
       "      <th>nervousness</th>\n",
       "      <th>remorse</th>\n",
       "      <th>pride</th>\n",
       "      <th>grief</th>\n",
       "    </tr>\n",
       "  </thead>\n",
       "  <tbody>\n",
       "    <tr>\n",
       "      <th>0</th>\n",
       "      <td>0.596640</td>\n",
       "      <td>0.122042</td>\n",
       "      <td>0.015823</td>\n",
       "      <td>0.005911</td>\n",
       "      <td>0.003237</td>\n",
       "      <td>0.011316</td>\n",
       "      <td>0.004991</td>\n",
       "      <td>0.112308</td>\n",
       "      <td>0.001633</td>\n",
       "      <td>0.002466</td>\n",
       "      <td>...</td>\n",
       "      <td>0.059172</td>\n",
       "      <td>0.000844</td>\n",
       "      <td>0.002080</td>\n",
       "      <td>0.003066</td>\n",
       "      <td>0.000399</td>\n",
       "      <td>0.001172</td>\n",
       "      <td>0.000435</td>\n",
       "      <td>0.000530</td>\n",
       "      <td>0.001348</td>\n",
       "      <td>0.000324</td>\n",
       "    </tr>\n",
       "    <tr>\n",
       "      <th>1</th>\n",
       "      <td>0.413818</td>\n",
       "      <td>0.119802</td>\n",
       "      <td>0.035029</td>\n",
       "      <td>0.013273</td>\n",
       "      <td>0.007034</td>\n",
       "      <td>0.018145</td>\n",
       "      <td>0.027990</td>\n",
       "      <td>0.117810</td>\n",
       "      <td>0.002783</td>\n",
       "      <td>0.033922</td>\n",
       "      <td>...</td>\n",
       "      <td>0.058742</td>\n",
       "      <td>0.001952</td>\n",
       "      <td>0.096620</td>\n",
       "      <td>0.148901</td>\n",
       "      <td>0.001948</td>\n",
       "      <td>0.001935</td>\n",
       "      <td>0.000916</td>\n",
       "      <td>0.000894</td>\n",
       "      <td>0.002721</td>\n",
       "      <td>0.000562</td>\n",
       "    </tr>\n",
       "    <tr>\n",
       "      <th>2</th>\n",
       "      <td>0.412002</td>\n",
       "      <td>0.089891</td>\n",
       "      <td>0.013034</td>\n",
       "      <td>0.007273</td>\n",
       "      <td>0.005425</td>\n",
       "      <td>0.008518</td>\n",
       "      <td>0.006748</td>\n",
       "      <td>0.231853</td>\n",
       "      <td>0.004237</td>\n",
       "      <td>0.059407</td>\n",
       "      <td>...</td>\n",
       "      <td>0.080019</td>\n",
       "      <td>0.014132</td>\n",
       "      <td>0.003056</td>\n",
       "      <td>0.065627</td>\n",
       "      <td>0.000929</td>\n",
       "      <td>0.002260</td>\n",
       "      <td>0.000996</td>\n",
       "      <td>0.001228</td>\n",
       "      <td>0.002564</td>\n",
       "      <td>0.000487</td>\n",
       "    </tr>\n",
       "    <tr>\n",
       "      <th>3</th>\n",
       "      <td>0.455712</td>\n",
       "      <td>0.171768</td>\n",
       "      <td>0.048605</td>\n",
       "      <td>0.010831</td>\n",
       "      <td>0.005508</td>\n",
       "      <td>0.032074</td>\n",
       "      <td>0.061143</td>\n",
       "      <td>0.280289</td>\n",
       "      <td>0.001932</td>\n",
       "      <td>0.002863</td>\n",
       "      <td>...</td>\n",
       "      <td>0.002597</td>\n",
       "      <td>0.001427</td>\n",
       "      <td>0.001607</td>\n",
       "      <td>0.004175</td>\n",
       "      <td>0.000764</td>\n",
       "      <td>0.001391</td>\n",
       "      <td>0.001086</td>\n",
       "      <td>0.000670</td>\n",
       "      <td>0.003476</td>\n",
       "      <td>0.000543</td>\n",
       "    </tr>\n",
       "    <tr>\n",
       "      <th>4</th>\n",
       "      <td>0.372648</td>\n",
       "      <td>0.160608</td>\n",
       "      <td>0.046690</td>\n",
       "      <td>0.019599</td>\n",
       "      <td>0.024657</td>\n",
       "      <td>0.012663</td>\n",
       "      <td>0.021458</td>\n",
       "      <td>0.246586</td>\n",
       "      <td>0.002425</td>\n",
       "      <td>0.056619</td>\n",
       "      <td>...</td>\n",
       "      <td>0.065167</td>\n",
       "      <td>0.004764</td>\n",
       "      <td>0.005942</td>\n",
       "      <td>0.009280</td>\n",
       "      <td>0.001186</td>\n",
       "      <td>0.004200</td>\n",
       "      <td>0.000899</td>\n",
       "      <td>0.000758</td>\n",
       "      <td>0.003661</td>\n",
       "      <td>0.000578</td>\n",
       "    </tr>\n",
       "  </tbody>\n",
       "</table>\n",
       "<p>5 rows × 28 columns</p>\n",
       "</div>"
      ],
      "text/plain": [
       "    neutral  approval  realization  annoyance  disappointment  optimism  \\\n",
       "0  0.596640  0.122042     0.015823   0.005911        0.003237  0.011316   \n",
       "1  0.413818  0.119802     0.035029   0.013273        0.007034  0.018145   \n",
       "2  0.412002  0.089891     0.013034   0.007273        0.005425  0.008518   \n",
       "3  0.455712  0.171768     0.048605   0.010831        0.005508  0.032074   \n",
       "4  0.372648  0.160608     0.046690   0.019599        0.024657  0.012663   \n",
       "\n",
       "   disapproval  admiration   sadness  confusion  ...      love  surprise  \\\n",
       "0     0.004991    0.112308  0.001633   0.002466  ...  0.059172  0.000844   \n",
       "1     0.027990    0.117810  0.002783   0.033922  ...  0.058742  0.001952   \n",
       "2     0.006748    0.231853  0.004237   0.059407  ...  0.080019  0.014132   \n",
       "3     0.061143    0.280289  0.001932   0.002863  ...  0.002597  0.001427   \n",
       "4     0.021458    0.246586  0.002425   0.056619  ...  0.065167  0.004764   \n",
       "\n",
       "   curiosity  gratitude  embarrassment     anger  nervousness   remorse  \\\n",
       "0   0.002080   0.003066       0.000399  0.001172     0.000435  0.000530   \n",
       "1   0.096620   0.148901       0.001948  0.001935     0.000916  0.000894   \n",
       "2   0.003056   0.065627       0.000929  0.002260     0.000996  0.001228   \n",
       "3   0.001607   0.004175       0.000764  0.001391     0.001086  0.000670   \n",
       "4   0.005942   0.009280       0.001186  0.004200     0.000899  0.000758   \n",
       "\n",
       "      pride     grief  \n",
       "0  0.001348  0.000324  \n",
       "1  0.002721  0.000562  \n",
       "2  0.002564  0.000487  \n",
       "3  0.003476  0.000543  \n",
       "4  0.003661  0.000578  \n",
       "\n",
       "[5 rows x 28 columns]"
      ]
     },
     "execution_count": 35,
     "metadata": {},
     "output_type": "execute_result"
    }
   ],
   "source": [
    "emotion_averages.head()"
   ]
  },
  {
   "cell_type": "code",
   "execution_count": 158,
   "id": "c629286d",
   "metadata": {},
   "outputs": [],
   "source": [
    "# Expand the emotion averages into separate columns for each emotion\n",
    "scored_appstore = pd.concat([cleaned_appstore, emotion_averages], axis=1)"
   ]
  },
  {
   "cell_type": "code",
   "execution_count": 159,
   "id": "c2348c39",
   "metadata": {},
   "outputs": [
    {
     "data": {
      "text/plain": [
       "id               int64\n",
       "type            object\n",
       "offset         float64\n",
       "n_batch        float64\n",
       "app_id           int64\n",
       "                ...   \n",
       "anger          float64\n",
       "nervousness    float64\n",
       "remorse        float64\n",
       "pride          float64\n",
       "grief          float64\n",
       "Length: 43, dtype: object"
      ]
     },
     "execution_count": 159,
     "metadata": {},
     "output_type": "execute_result"
    }
   ],
   "source": [
    "scored_appstore.dtypes"
   ]
  },
  {
   "cell_type": "code",
   "execution_count": 160,
   "id": "d64ea29f",
   "metadata": {},
   "outputs": [],
   "source": [
    "# Convert Object to DateTime\n",
    "scored_appstore[\"date\"] = pd.to_datetime(scored_appstore[\"date\"])"
   ]
  },
  {
   "cell_type": "code",
   "execution_count": 161,
   "id": "ae2037e4",
   "metadata": {},
   "outputs": [],
   "source": [
    "# Define the exponential decay function\n",
    "def apply_exponential_decay(group, half_life=1):\n",
    "    \"\"\"\n",
    "    Apply exponential decay to scores in the group.\n",
    "    \n",
    "    Parameters:\n",
    "    - group: DataFrame or Series with sorted reviews and their scores.\n",
    "    - half_life: The time (in units of the index) after which the score is halved.\n",
    "    \n",
    "    Returns:\n",
    "    - A DataFrame with scores adjusted for exponential decay.\n",
    "    \"\"\"\n",
    "    # Sort the group by date\n",
    "    group = group.sort_values(by=\"date\")\n",
    "    # Calculate the decay factor: decay = 2 ^ (-index / half_life)\n",
    "    # where index is the position of the review within the group\n",
    "    decay_factors = np.exp(-np.arange(len(group)) / half_life)\n",
    "\n",
    "    # Ensure that the length of decay factors matches the rows of the group\n",
    "    assert len(decay_factors) == len(group), \"Length mismatch between decay factors and rows in group\"\n",
    "    \n",
    "        # Apply the decay factor to each emotion score\n",
    "    for emotion in emotion_averages.columns.tolist():  # Include all emotion columns\n",
    "        group[emotion] = group[emotion] * decay_factors\n",
    "    \n",
    "    return group"
   ]
  },
  {
   "cell_type": "code",
   "execution_count": 162,
   "id": "7d78608c",
   "metadata": {},
   "outputs": [],
   "source": [
    "def time_weighted_and_normalized_score(group, reference_date, lambda_decay=0.1):\n",
    "\n",
    "    group['date'] = pd.to_datetime(group['date'])\n",
    "    reference_date = pd.to_datetime(reference_date, utc=True)\n",
    "    \n",
    "    # Calculate time difference from reference date (assuming 'date' column is in datetime format)\n",
    "    group['time_diff'] = (reference_date - group['date']).dt.days\n",
    "    \n",
    "    # Apply decay based on time difference\n",
    "    group['weight'] = 1 / (1 + lambda_decay * group['time_diff'])\n",
    "    \n",
    "    # Apply weight to each score column\n",
    "    for emotion in emotion_averages.columns.tolist():\n",
    "        group[emotion] = group[emotion] * group['weight']\n",
    "        min_score = group[emotion].min()\n",
    "        max_score = group[emotion].max()\n",
    "        group[emotion] = (group[emotion] - min_score) / (max_score - min_score)\n",
    "\n",
    "    return group"
   ]
  },
  {
   "cell_type": "code",
   "execution_count": 163,
   "id": "a03b89e7",
   "metadata": {},
   "outputs": [],
   "source": [
    "# scored_appstore.groupby(\"app_id\").apply(apply_exponential_decay)"
   ]
  },
  {
   "cell_type": "code",
   "execution_count": 164,
   "id": "4b437683",
   "metadata": {},
   "outputs": [
    {
     "data": {
      "text/plain": [
       "Index(['id', 'type', 'offset', 'n_batch', 'app_id', 'date',\n",
       "       'developerResponse.id', 'developerResponse.body',\n",
       "       'developerResponse.modified', 'review', 'rating', 'isEdited',\n",
       "       'userName', 'title', 'name', 'neutral', 'approval', 'realization',\n",
       "       'annoyance', 'disappointment', 'optimism', 'disapproval', 'admiration',\n",
       "       'sadness', 'confusion', 'joy', 'disgust', 'desire', 'amusement', 'fear',\n",
       "       'excitement', 'caring', 'relief', 'love', 'surprise', 'curiosity',\n",
       "       'gratitude', 'embarrassment', 'anger', 'nervousness', 'remorse',\n",
       "       'pride', 'grief'],\n",
       "      dtype='object')"
      ]
     },
     "execution_count": 164,
     "metadata": {},
     "output_type": "execute_result"
    }
   ],
   "source": [
    "scored_appstore.columns"
   ]
  },
  {
   "cell_type": "code",
   "execution_count": 165,
   "id": "a36b99e7",
   "metadata": {},
   "outputs": [],
   "source": [
    "# scored_appstore.groupby(\"app_id\").apply(time_weighted_and_normalized_score, reference_date=date.today())"
   ]
  },
  {
   "cell_type": "code",
   "execution_count": 166,
   "id": "514dca5b",
   "metadata": {},
   "outputs": [],
   "source": [
    "emotion_columns = [\n",
    "    'neutral', 'approval', 'realization', 'annoyance', 'disappointment', 'optimism', \n",
    "    'disapproval', 'admiration', 'sadness', 'confusion', 'joy', 'disgust', 'desire', \n",
    "    'amusement', 'fear', 'excitement', 'caring', 'relief', 'love', 'surprise', \n",
    "    'curiosity', 'gratitude', 'embarrassment', 'anger', 'nervousness', 'remorse', \n",
    "    'pride', 'grief'\n",
    "]\n",
    "\n",
    "# Group by app_id and calculate the mean for each emotion column\n",
    "mean_emotion_scores = scored_appstore.groupby('app_id')[emotion_columns].mean().reset_index()"
   ]
  },
  {
   "cell_type": "code",
   "execution_count": 167,
   "id": "478a3ec4",
   "metadata": {},
   "outputs": [
    {
     "data": {
      "text/html": [
       "<div>\n",
       "<style scoped>\n",
       "    .dataframe tbody tr th:only-of-type {\n",
       "        vertical-align: middle;\n",
       "    }\n",
       "\n",
       "    .dataframe tbody tr th {\n",
       "        vertical-align: top;\n",
       "    }\n",
       "\n",
       "    .dataframe thead th {\n",
       "        text-align: right;\n",
       "    }\n",
       "</style>\n",
       "<table border=\"1\" class=\"dataframe\">\n",
       "  <thead>\n",
       "    <tr style=\"text-align: right;\">\n",
       "      <th></th>\n",
       "      <th>app_id</th>\n",
       "      <th>neutral</th>\n",
       "      <th>approval</th>\n",
       "      <th>realization</th>\n",
       "      <th>annoyance</th>\n",
       "      <th>disappointment</th>\n",
       "      <th>optimism</th>\n",
       "      <th>disapproval</th>\n",
       "      <th>admiration</th>\n",
       "      <th>sadness</th>\n",
       "      <th>...</th>\n",
       "      <th>love</th>\n",
       "      <th>surprise</th>\n",
       "      <th>curiosity</th>\n",
       "      <th>gratitude</th>\n",
       "      <th>embarrassment</th>\n",
       "      <th>anger</th>\n",
       "      <th>nervousness</th>\n",
       "      <th>remorse</th>\n",
       "      <th>pride</th>\n",
       "      <th>grief</th>\n",
       "    </tr>\n",
       "  </thead>\n",
       "  <tbody>\n",
       "    <tr>\n",
       "      <th>0</th>\n",
       "      <td>469863705</td>\n",
       "      <td>0.311889</td>\n",
       "      <td>0.144178</td>\n",
       "      <td>0.036452</td>\n",
       "      <td>0.042987</td>\n",
       "      <td>0.044540</td>\n",
       "      <td>0.033989</td>\n",
       "      <td>0.046151</td>\n",
       "      <td>0.189336</td>\n",
       "      <td>0.011314</td>\n",
       "      <td>...</td>\n",
       "      <td>0.076071</td>\n",
       "      <td>0.006484</td>\n",
       "      <td>0.012695</td>\n",
       "      <td>0.071394</td>\n",
       "      <td>0.002863</td>\n",
       "      <td>0.009129</td>\n",
       "      <td>0.002087</td>\n",
       "      <td>0.003146</td>\n",
       "      <td>0.003150</td>\n",
       "      <td>0.000807</td>\n",
       "    </tr>\n",
       "    <tr>\n",
       "      <th>1</th>\n",
       "      <td>570060128</td>\n",
       "      <td>0.378834</td>\n",
       "      <td>0.136243</td>\n",
       "      <td>0.050477</td>\n",
       "      <td>0.060759</td>\n",
       "      <td>0.058993</td>\n",
       "      <td>0.034712</td>\n",
       "      <td>0.062105</td>\n",
       "      <td>0.101210</td>\n",
       "      <td>0.016863</td>\n",
       "      <td>...</td>\n",
       "      <td>0.048791</td>\n",
       "      <td>0.006535</td>\n",
       "      <td>0.015540</td>\n",
       "      <td>0.023390</td>\n",
       "      <td>0.003274</td>\n",
       "      <td>0.011343</td>\n",
       "      <td>0.002862</td>\n",
       "      <td>0.003299</td>\n",
       "      <td>0.002676</td>\n",
       "      <td>0.000929</td>\n",
       "    </tr>\n",
       "    <tr>\n",
       "      <th>2</th>\n",
       "      <td>137846...</td>\n",
       "      <td>0.279002</td>\n",
       "      <td>0.111834</td>\n",
       "      <td>0.018163</td>\n",
       "      <td>0.018132</td>\n",
       "      <td>0.016330</td>\n",
       "      <td>0.017847</td>\n",
       "      <td>0.021389</td>\n",
       "      <td>0.222705</td>\n",
       "      <td>0.007335</td>\n",
       "      <td>...</td>\n",
       "      <td>0.190475</td>\n",
       "      <td>0.008128</td>\n",
       "      <td>0.010205</td>\n",
       "      <td>0.069815</td>\n",
       "      <td>0.001184</td>\n",
       "      <td>0.007027</td>\n",
       "      <td>0.000986</td>\n",
       "      <td>0.001739</td>\n",
       "      <td>0.002720</td>\n",
       "      <td>0.000649</td>\n",
       "    </tr>\n",
       "    <tr>\n",
       "      <th>3</th>\n",
       "      <td>143639...</td>\n",
       "      <td>0.323792</td>\n",
       "      <td>0.070379</td>\n",
       "      <td>0.015236</td>\n",
       "      <td>0.034059</td>\n",
       "      <td>0.040359</td>\n",
       "      <td>0.023645</td>\n",
       "      <td>0.052118</td>\n",
       "      <td>0.169149</td>\n",
       "      <td>0.014643</td>\n",
       "      <td>...</td>\n",
       "      <td>0.220521</td>\n",
       "      <td>0.005822</td>\n",
       "      <td>0.010989</td>\n",
       "      <td>0.028761</td>\n",
       "      <td>0.001937</td>\n",
       "      <td>0.013319</td>\n",
       "      <td>0.001669</td>\n",
       "      <td>0.001841</td>\n",
       "      <td>0.001996</td>\n",
       "      <td>0.000812</td>\n",
       "    </tr>\n",
       "  </tbody>\n",
       "</table>\n",
       "<p>4 rows × 29 columns</p>\n",
       "</div>"
      ],
      "text/plain": [
       "      app_id   neutral  approval  realization  annoyance  disappointment  \\\n",
       "0  469863705  0.311889  0.144178   0.036452     0.042987   0.044540        \n",
       "1  570060128  0.378834  0.136243   0.050477     0.060759   0.058993        \n",
       "2  137846...  0.279002  0.111834   0.018163     0.018132   0.016330        \n",
       "3  143639...  0.323792  0.070379   0.015236     0.034059   0.040359        \n",
       "\n",
       "   optimism  disapproval  admiration   sadness  ...      love  surprise  \\\n",
       "0  0.033989   0.046151     0.189336   0.011314  ...  0.076071  0.006484   \n",
       "1  0.034712   0.062105     0.101210   0.016863  ...  0.048791  0.006535   \n",
       "2  0.017847   0.021389     0.222705   0.007335  ...  0.190475  0.008128   \n",
       "3  0.023645   0.052118     0.169149   0.014643  ...  0.220521  0.005822   \n",
       "\n",
       "   curiosity  gratitude  embarrassment     anger  nervousness   remorse  \\\n",
       "0   0.012695   0.071394   0.002863      0.009129   0.002087    0.003146   \n",
       "1   0.015540   0.023390   0.003274      0.011343   0.002862    0.003299   \n",
       "2   0.010205   0.069815   0.001184      0.007027   0.000986    0.001739   \n",
       "3   0.010989   0.028761   0.001937      0.013319   0.001669    0.001841   \n",
       "\n",
       "      pride     grief  \n",
       "0  0.003150  0.000807  \n",
       "1  0.002676  0.000929  \n",
       "2  0.002720  0.000649  \n",
       "3  0.001996  0.000812  \n",
       "\n",
       "[4 rows x 29 columns]"
      ]
     },
     "execution_count": 167,
     "metadata": {},
     "output_type": "execute_result"
    }
   ],
   "source": [
    "mean_emotion_scores"
   ]
  },
  {
   "cell_type": "markdown",
   "id": "d60b9ba6",
   "metadata": {},
   "source": [
    "## Visualizing"
   ]
  },
  {
   "cell_type": "code",
   "execution_count": 108,
   "id": "136a2119",
   "metadata": {},
   "outputs": [
    {
     "name": "stdout",
     "output_type": "stream",
     "text": [
      "{0: 'admiration', 1: 'amusement', 2: 'anger', 3: 'annoyance', 4: 'approval', 5: 'caring', 6: 'confusion', 7: 'curiosity', 8: 'desire', 9: 'disappointment', 10: 'disapproval', 11: 'disgust', 12: 'embarrassment', 13: 'excitement', 14: 'fear', 15: 'gratitude', 16: 'grief', 17: 'joy', 18: 'love', 19: 'nervousness', 20: 'optimism', 21: 'pride', 22: 'realization', 23: 'relief', 24: 'remorse', 25: 'sadness', 26: 'surprise', 27: 'neutral'}\n"
     ]
    }
   ],
   "source": [
    "labels = classifier.model.config.id2label\n",
    "print(labels)"
   ]
  },
  {
   "cell_type": "code",
   "execution_count": null,
   "id": "b8c90801",
   "metadata": {},
   "outputs": [
    {
     "data": {
      "image/png": "[encoded data removed]",
      "text/plain": [
       "<Figure size 800x500 with 1 Axes>"
      ]
     },
     "metadata": {},
     "output_type": "display_data"
    }
   ],
   "source": [
    "# # Bar Chart for Category Distribution\n",
    "# plt.figure(figsize=(8, 5))\n",
    "# plt.bar(review_insights['category_distribution'].keys(), review_insights['category_distribution'].values(), color='skyblue')\n",
    "# plt.title('Category Distribution')\n",
    "# plt.xlabel('Categories')\n",
    "# plt.ylabel('Proportion')\n",
    "# plt.xticks(rotation=45)\n",
    "# plt.show()"
   ]
  },
  {
   "cell_type": "code",
   "execution_count": null,
   "id": "56632195",
   "metadata": {},
   "outputs": [
    {
     "data": {
      "image/png": "[encoded data removed]",
      "text/plain": [
       "<Figure size 2000x600 with 1 Axes>"
      ]
     },
     "metadata": {},
     "output_type": "display_data"
    }
   ],
   "source": [
    "# plt.figure(figsize=(20, 6))\n",
    "# plt.bar(['average_category_scores'].keys(), review_insights['average_category_scores'].values(), color='skyblue')\n",
    "# plt.title('Category Scores')\n",
    "# plt.xlabel('Categories')\n",
    "# plt.ylabel('Scores')\n",
    "# plt.xticks(rotation=45)\n",
    "# plt.show()"
   ]
  },
  {
   "cell_type": "markdown",
   "id": "0a0b40cd",
   "metadata": {},
   "source": [
    "## Finetuning Model"
   ]
  },
  {
   "cell_type": "markdown",
   "id": "a5cb4dc7",
   "metadata": {},
   "source": [
    "Import Hand labeled data"
   ]
  },
  {
   "cell_type": "code",
   "execution_count": 105,
   "id": "1d70b8e2",
   "metadata": {},
   "outputs": [],
   "source": [
    "# emotions_labels = [\n",
    "#     \"admiration\",\n",
    "#     \"amusement\",\n",
    "#     \"approval\",\n",
    "#     \"caring\",\n",
    "#     \"anger\",\n",
    "#     \"annoyance\",\n",
    "#     \"disappointment\",\n",
    "#     \"disapproval\",\n",
    "#     \"confusion\",\n",
    "#     \"desire\",\n",
    "#     \"excitement\",\n",
    "#     \"gratitude\",\n",
    "#     \"joy\",\n",
    "#     \"disgust\",\n",
    "#     \"embarrassment\",\n",
    "#     \"fear\",\n",
    "#     \"grief\",\n",
    "#     \"love\",\n",
    "#     \"optimism\",\n",
    "#     \"pride\",\n",
    "#     \"relief\",\n",
    "#     \"nervousness\",\n",
    "#     \"remorse\",\n",
    "#     \"sadness\",\n",
    "#     \"realization\",\n",
    "#     \"surprise\",\n",
    "#     \"curiosity\",\n",
    "#     \"neutral\"\n",
    "# ]"
   ]
  },
  {
   "cell_type": "code",
   "execution_count": 106,
   "id": "21ffd2c2",
   "metadata": {},
   "outputs": [],
   "source": [
    "# def parse_multilabel_sentiment(sentiment_str):\n",
    "#     \"\"\"\n",
    "#     Parse sentiment string, handling both single labels and JSON-like multi-label formats\n",
    "#     \"\"\"\n",
    "#     try:\n",
    "#         # Try parsing as JSON\n",
    "#         if isinstance(sentiment_str, str) and sentiment_str.startswith('{'):\n",
    "#             parsed_sentiment = json.loads(sentiment_str.replace(\"'\", '\"'))\n",
    "#             return parsed_sentiment.get('choices', [sentiment_str])\n",
    "        \n",
    "#         # If it's a single string, return as a list\n",
    "#         elif isinstance(sentiment_str, str):\n",
    "#             return [sentiment_str]\n",
    "        \n",
    "#         # If it's already a list, return as-is\n",
    "#         elif isinstance(sentiment_str, list):\n",
    "#             return sentiment_str\n",
    "        \n",
    "#         # Default case\n",
    "#         return []\n",
    "#     except (json.JSONDecodeError, TypeError):\n",
    "#         return [sentiment_str]\n",
    "\n",
    "# def prepare_multilabel_emotion_classification(data_path):\n",
    "#     # Load data\n",
    "#     df = pd.read_csv(data_path)\n",
    "    \n",
    "#     # Complete list of emotions based on observed labels\n",
    "#     emotions_labels = [\n",
    "#         \"admiration\", \"amusement\", \"anger\", \"annoyance\", \"approval\", \"caring\", \n",
    "#         \"confusion\", \"curiosity\", \"desire\", \"disappointment\", \"disapproval\", \n",
    "#         \"disgust\", \"embarrassment\", \"excitement\", \"fear\", \"gratitude\", \n",
    "#         \"grief\", \"joy\", \"love\", \"nervousness\", \"neutral\", \"optimism\", \n",
    "#         \"pride\", \"realization\", \"relief\", \"remorse\", \"sadness\", \"surprise\"\n",
    "#     ]\n",
    "\n",
    "#     # Create label mapping\n",
    "#     label_map = {emotion: index for index, emotion in enumerate(emotions_labels)}\n",
    "    \n",
    "#     # Parse multi-label sentiments\n",
    "#     df['parsed_sentiments'] = df['sentiment'].apply(parse_multilabel_sentiment)\n",
    "    \n",
    "#     # Create multi-hot encoded labels\n",
    "#     def create_multilabel_vector(sentiments):\n",
    "#         vector = np.zeros(len(emotions_labels), dtype=np.float32)\n",
    "#         for sent in sentiments:\n",
    "#             if sent.strip() in label_map:\n",
    "#                 vector[label_map[sent.strip()]] = 1.0\n",
    "#         return vector\n",
    "\n",
    "#     df['multilabel'] = df['parsed_sentiments'].apply(create_multilabel_vector)\n",
    "\n",
    "#     # Tokenizer and model setup\n",
    "#     model_name = \"SamLowe/roberta-base-go_emotions\"\n",
    "#     tokenizer = AutoTokenizer.from_pretrained(model_name)\n",
    "    \n",
    "#     # Prepare datasets\n",
    "#     train_texts, val_texts, train_labels, val_labels = train_test_split(\n",
    "#         df['sentence'], \n",
    "#         np.stack(df['multilabel']), \n",
    "#         test_size=0.2, \n",
    "#         random_state=42\n",
    "#     )\n",
    "\n",
    "#     # Custom Dataset for multi-label classification\n",
    "#     class MultiLabelDataset(torch.utils.data.Dataset):\n",
    "#         def __init__(self, tokenizer, texts, labels, max_length=128):\n",
    "#             self.encodings = tokenizer(\n",
    "#                 texts.tolist(), \n",
    "#                 truncation=True, \n",
    "#                 padding=True, \n",
    "#                 max_length=max_length, \n",
    "#                 return_tensors='pt'\n",
    "#             )\n",
    "#             self.labels = torch.tensor(labels, dtype=torch.float)\n",
    "\n",
    "#         def __getitem__(self, idx):\n",
    "#             item = {key: val[idx] for key, val in self.encodings.items()}\n",
    "#             item['labels'] = self.labels[idx]\n",
    "#             return item\n",
    "\n",
    "#         def __len__(self):\n",
    "#             return len(self.labels)\n",
    "\n",
    "#     # Create datasets\n",
    "#     train_dataset = MultiLabelDataset(tokenizer, train_texts, train_labels)\n",
    "#     val_dataset = MultiLabelDataset(tokenizer, val_texts, val_labels)\n",
    "\n",
    "#     # Load model for multi-label classification\n",
    "#     model = AutoModelForSequenceClassification.from_pretrained(\n",
    "#         model_name, \n",
    "#         num_labels=len(emotions_labels),\n",
    "#         problem_type=\"multi_label_classification\"\n",
    "#     )\n",
    "\n",
    "#     # Training Arguments\n",
    "#     training_args = TrainingArguments(\n",
    "#         output_dir=\"./results\",\n",
    "#         num_train_epochs=3,\n",
    "#         per_device_train_batch_size=16,\n",
    "#         per_device_eval_batch_size=16,\n",
    "#         warmup_steps=500,\n",
    "#         weight_decay=0.01,\n",
    "#         logging_dir=\"./logs\",\n",
    "#         logging_steps=10,\n",
    "#         evaluation_strategy=\"epoch\"\n",
    "#     )\n",
    "\n",
    "#     # Custom Trainer to handle multi-label loss\n",
    "#     class MultiLabelTrainer(Trainer):\n",
    "#         def compute_loss(self, model, inputs, return_outputs=False):\n",
    "#             # Remove labels from inputs\n",
    "#             labels = inputs.pop(\"labels\")\n",
    "            \n",
    "#             # Forward pass\n",
    "#             outputs = model(**inputs)\n",
    "            \n",
    "#             # Compute binary cross-entropy loss\n",
    "#             loss = F.binary_cross_entropy_with_logits(outputs.logits, labels)\n",
    "            \n",
    "#             return (loss, outputs) if return_outputs else loss\n",
    "\n",
    "#     # Define a custom compute_metrics function for multi-label classification\n",
    "#     def compute_metrics(pred):\n",
    "#         labels = pred.label_ids\n",
    "#         preds = torch.sigmoid(torch.tensor(pred.predictions)).numpy()\n",
    "        \n",
    "#         # Convert to binary predictions using a threshold\n",
    "#         preds_binary = (preds > 0.5).astype(int)\n",
    "        \n",
    "#         # Compute various metrics\n",
    "#         from sklearn.metrics import f1_score, accuracy_score, precision_score, recall_score\n",
    "        \n",
    "#         return {\n",
    "#             'accuracy': accuracy_score(labels, preds_binary),\n",
    "#             'precision': precision_score(labels, preds_binary, average='micro'),\n",
    "#             'recall': recall_score(labels, preds_binary, average='micro'),\n",
    "#             'f1': f1_score(labels, preds_binary, average='micro')\n",
    "#         }\n",
    "\n",
    "#     # Initialize Trainer\n",
    "#     trainer = MultiLabelTrainer(\n",
    "#         model=model,\n",
    "#         args=training_args,\n",
    "#         train_dataset=train_dataset,\n",
    "#         eval_dataset=val_dataset,\n",
    "#         compute_metrics=compute_metrics,\n",
    "#         compute_loss_func=compute_loss\n",
    "#     )\n",
    "\n",
    "#     return trainer, train_dataset, val_dataset, label_map, emotions_labels"
   ]
  },
  {
   "cell_type": "code",
   "execution_count": 107,
   "id": "af537d9f",
   "metadata": {},
   "outputs": [],
   "source": [
    "# # Prepare the data, model, and trainer\n",
    "# trainer, train_dataset, val_dataset, label_map, emotions_labels = prepare_multilabel_emotion_classification(\"data/finetuningdata_multicategory.csv\")\n",
    "\n",
    "# # Train the model\n",
    "# trainer.train()\n",
    "\n",
    "# # Evaluate the model\n",
    "# # trainer.evaluate()"
   ]
  },
  {
   "cell_type": "code",
   "execution_count": null,
   "id": "1f91900e",
   "metadata": {},
   "outputs": [],
   "source": []
  }
 ],
 "metadata": {
  "kernelspec": {
   "display_name": "mgscfinal",
   "language": "python",
   "name": "python3"
  },
  "language_info": {
   "codemirror_mode": {
    "name": "ipython",
    "version": 3
   },
   "file_extension": ".py",
   "mimetype": "text/x-python",
   "name": "python",
   "nbconvert_exporter": "python",
   "pygments_lexer": "ipython3",
   "version": "3.11.9"
  }
 },
 "nbformat": 4,
 "nbformat_minor": 5
}
