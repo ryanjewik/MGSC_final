{
 "cells": [
  {
   "cell_type": "markdown",
   "id": "3bfd17c5",
   "metadata": {},
   "source": [
    "google play scraper doc:\n",
    "https://pypi.org/project/google-play-scraper/\n"
   ]
  },
  {
   "cell_type": "code",
   "execution_count": 2,
   "id": "e4e31250",
   "metadata": {},
   "outputs": [],
   "source": [
    "from google_play_scraper import app\n",
    "from google_play_scraper import Sort, reviews_all\n",
    "import pandas as pd\n",
    "import numpy as np"
   ]
  },
  {
   "cell_type": "code",
   "execution_count": 3,
   "id": "f1a6a949",
   "metadata": {},
   "outputs": [],
   "source": [
    "import string\n",
    "def string_to_integer(input_str):\n",
    "    # Remove punctuation from the string\n",
    "    cleaned_str = input_str.translate(str.maketrans('', '', string.punctuation))\n",
    "    # Convert the cleaned string to an integer\n",
    "    try:\n",
    "        return int(cleaned_str)\n",
    "    except ValueError:\n",
    "        raise ValueError(\"The input string does not contain a valid integer after removing punctuation.\")\n",
    "\n",
    "import re\n",
    "\n",
    "def clean_filename(filename):\n",
    "    # Define a regex pattern for characters not allowed in filenames\n",
    "    invalid_chars = r'[\\/:*?\"<>|]'\n",
    "    # Replace invalid characters with an underscore\n",
    "    cleaned_filename = re.sub(invalid_chars, '_', filename)\n",
    "    return cleaned_filename"
   ]
  },
  {
   "cell_type": "markdown",
   "id": "a4df850b",
   "metadata": {},
   "source": [
    "reviews_all function returns all of reviews from app. If you want to set the count to infinity while using the reviews function, you can use the reviews_all function.\n",
    "\n",
    ":bulb: Because of the Google Play Store limit (up to 200 reviews can be fetched at a time), http requests are generated as long as the number of app reviews is divided by 200. For example, targeting an app like Pokémon GO makes tens of thousands of http requests."
   ]
  },
  {
   "cell_type": "code",
   "execution_count": 4,
   "id": "9a6950d5",
   "metadata": {},
   "outputs": [],
   "source": [
    "from google_play_scraper import search\n",
    "\n",
    "#app search\n",
    "result = search(\n",
    "    \"khan academy kids\",\n",
    "    lang=\"en\",  # defaults to 'en'\n",
    "    country=\"us\",  # defaults to 'us'\n",
    "    n_hits=3  # defaults to 30 (= Google's maximum) we can adjust to how many other recommendations we might want\n",
    ")"
   ]
  },
  {
   "cell_type": "code",
   "execution_count": 5,
   "id": "5852b423",
   "metadata": {},
   "outputs": [
    {
     "data": {
      "text/plain": [
       "[{'appId': 'org.khankids.android',\n",
       "  'icon': 'https://play-lh.googleusercontent.com/izLhYaGPkp00EEKNbwWQd28pUAWEnOhBl8VE1D8RdazaZU6n5_UcUsQtDBELOAvIASM',\n",
       "  'screenshots': ['https://play-lh.googleusercontent.com/ElCQFvMOk629izLfxZnnrGjHQ6L15ZXYsWnJiAMBVXrnB8_m1SLk9QviyEwTvdWbZXU',\n",
       "   'https://play-lh.googleusercontent.com/70FxMvwYw1HIzi0KsQa0VakwBXceziFF6xLAGAL8B5JzBryTggna5A799KejZjkuYjow',\n",
       "   'https://play-lh.googleusercontent.com/RxzLictEc3VK8BgBvmWVkWrJah4POIBf7a3roB2bPjy2QBqzn0Os4NytmVcOPfnCsQ',\n",
       "   'https://play-lh.googleusercontent.com/26KxsKvZQopCWnLyVRJr7_d8pB0dESVTfQ79tg81W7qNngVku8nu4wBzZk5mN0dG7ls',\n",
       "   'https://play-lh.googleusercontent.com/9fXT6nCAzB36Z3wsVoAx4wWMideM9L8AHhuJ5HyCH8uJc0K04Xyu7ZXho1biuaJf5JCv',\n",
       "   'https://play-lh.googleusercontent.com/N2n3xKahPDT8EDLquCUJ0JtUaxITMs7VoyWzdeNYPlQZGFgQaT_pBc_LYh18JqTDQA',\n",
       "   'https://play-lh.googleusercontent.com/WDSk6fq_n-ECteLuDCJxiyOhll95UlX13D1rBhl3toEAl8e2aqcZgbaq1W8IX7OUBr39',\n",
       "   'https://play-lh.googleusercontent.com/TmVG0JaSIIM09kNkFUDwiw-INHGhEWtwoUd0rU82vpPCcpovOCte4S0yH0yAe4KMh_E',\n",
       "   'https://play-lh.googleusercontent.com/XZl-zUicdFqgmSZBLsYdFBcyfBnsCI-j4GKKzQ8fuSaoGmI4vIa-PNIwNk7rrCnh4bU',\n",
       "   'https://play-lh.googleusercontent.com/Z8VsGNPHZXkG-L_IpVhWhkLnft21MFLQSlVwknLshh7QeqddMS4O3EUKvToLVz1HsA',\n",
       "   'https://play-lh.googleusercontent.com/OHiI1SYy5GTJbjQHV8PgKBGMHn-bCzXccQKAkXwJuiPDNQ3A8MY_nZa_DL9oNtNrmPo',\n",
       "   'https://play-lh.googleusercontent.com/iAFLNeqw_yUrapyA9KZ3E-fx2B_p-QH_CEF-MUs2bE1m5maOP8TtzjKlpkuF2CDNDQ',\n",
       "   'https://play-lh.googleusercontent.com/ttU91tiqk00FhhNwO8w2C1tDh6xZ37MkvFfLpBG5zkAXP791ymy0I5VVxcO1mpKVCDs',\n",
       "   'https://play-lh.googleusercontent.com/oK6zVLkV4Gj7wdWXov2kqJmNFwy6psd5uWEIFqFzAJ3RwiUxHv5YpzCq-rwjtbBNR9U',\n",
       "   'https://play-lh.googleusercontent.com/ASaoIjf9nVfDXeb0gkT3E8OHb7spceiH7J3NtexOOvivlB84aVKNFtnGf8G-878s70A',\n",
       "   'https://play-lh.googleusercontent.com/IWKoZQhLBDxJt-ilno6E3O1hcEadKxAXjRExDQY1AUks80DoSdcloywFTN12g4CVWTJh',\n",
       "   'https://play-lh.googleusercontent.com/CYSVBMqMY1sK5ln_z-hWhMGoBizSDneiroevMqj7yZNJ11bO1q4swFDTo7Q7O6mqTI0O',\n",
       "   'https://play-lh.googleusercontent.com/0voCXdvgTtkDV5-f_ss-uFCGQtZKnBzxeAwYIi2yfC2AFOayRA0Em6d1CK6l8oq4EQ',\n",
       "   'https://play-lh.googleusercontent.com/5lcbOLQlLyGCxCf6PkFcRCrQxJ0SQPulUfw2VaJAAqgtIv_GSHqmJlyOOGwGnoUt-qc',\n",
       "   'https://play-lh.googleusercontent.com/32FvTzmOz-l4epv8WZi27yNxNZFVO_h5zoqlJFPy7-hC5nDxgoVDL718Ngf_iWEoW0bm',\n",
       "   'https://play-lh.googleusercontent.com/zej7yPVeJawPkeEpPcJCgBwQ6oSIcd_CS-Cgh8gxkAoY8QBaw8VUvgKlDg2mOLTW5V4',\n",
       "   'https://play-lh.googleusercontent.com/twZ4WJk3rDe4kAH6QG-qHnumW5U-_4WTGKuNELooinpLdFexkF3N8lV3jtJMHhxGV3M',\n",
       "   'https://play-lh.googleusercontent.com/6Ifvoql0Vc-gakO_m9t4bnR9bHmT4vL6h0k3IRtENd4pFO-Hv-cueDjwjTtD9iwT_WI',\n",
       "   'https://play-lh.googleusercontent.com/_uBg51_1dvm2JQTtyacuwGj4PTd_LW31NPV2OGKhzsDrPGtgnDgQfY7XtW3WrhvpxKQ'],\n",
       "  'title': 'Khan Academy Kids',\n",
       "  'score': 4.647536,\n",
       "  'genre': 'Education',\n",
       "  'price': 0,\n",
       "  'free': True,\n",
       "  'currency': 'USD',\n",
       "  'video': None,\n",
       "  'videoImage': None,\n",
       "  'description': 'Khan Academy Kids is a free educational app for children ages 2-8. The Khan Kids library includes thousands of kids books, reading games, math activities and more. Best of all, Khan Kids is 100% free with no ads or subscriptions.\\r\\n\\r\\nREADING, MATH & MORE:\\r\\nWith over 5000 lessons and educational games for kids, there is always more to learn in Khan Academy Kids. Kodi the Bear guides kids through interactive learning games. Kids can learn the alphabet with abc games and practice phonics with Ollo the Elephant. During story time, kids can learn to read and learn to write with Reya the Red Panda. Peck the Hummingbird teaches numbers and counting while Sandy the Dingo loves shapes, sorting and memory puzzles. Their fun math games for kids are sure to spark a love of learning. \\r\\n\\r\\nENDLESS BOOKS FOR KIDS:\\r\\nAs kids learn to read, they can grow their love of books in the Khan Kids Library. The library is full of educational kids books for preschool, kindergarten and early elementary school. Kids can read about animals, dinosaurs, science, trucks and pets with non-fiction books for kids from National Geographic and Bellwether Media. While kids practice reading skills, they can select Read To Me to have kids books read aloud. We have books for kids in English and Spanish too.\\r\\n\\r\\nEARLY LEARNING TO EARLY ELEMENTARY: \\r\\nKhan Kids is an educational app for kids ages 2-8. From preschool lessons and kindergarten learning games to 1st and 2nd grade activities, kids can have fun learning at every level. As they head to preschool and kindergarten, kids can learn to count, add and subtract with fun math games. \\r\\n\\r\\nLEARN AT HOME & AT SCHOOL:\\r\\nKhan Academy Kids is the perfect learning app for families at home. From sleepy mornings to road trips, kids and families love learning with Khan Kids. Families that homeschool also enjoy our educational kids games and lessons for kids. And teachers love using Khan Kids in the classroom. Teachers from kindergarten to second grade can easily create assignments and monitor student learning. \\r\\n\\r\\nKID-FRIENDLY CURRICULUM: \\r\\nDesigned by experts in early childhood education, Khan Academy Kids is aligned with the Head Start Early Learning Outcomes Framework and Common Core Standards. \\r\\n\\r\\nOFFLINE ACCESS:\\r\\nNo wifi? No problem! Kids can learn on the go with the Khan Academy Kids offline library. Dozens of books and games for kids are available offline, so the learning never has to stop. Kids can practice the alphabet and trace letters, read books and spell sight words, learn numbers and play math games - all offline! \\r\\n\\r\\nKID SAFE & COMPLETELY FREE:\\r\\nThe Khan Academy Kids app is a safe and fun way for children to learn and play. Khan Kids is COPPA-compliant so children’s privacy is always protected. Khan Academy Kids is 100% free. There are no ads and no subscriptions, so kids can safely focus on learning, reading and playing.\\r\\n\\r\\nKHAN ACADEMY:\\r\\nKhan Academy is a 501(c)(3) nonprofit organization with the mission to provide a free, world-class education to anyone, anywhere. Khan Academy Kids was created by early learning experts from Duck Duck Moose who created 22 preschool games and won 22 Parents’ Choice Awards, 19 Children’s Technology Review Awards and a KAPi award for Best Children’s App. Khan Academy Kids is 100% free with no ads or subscriptions.\\r\\n\\r\\nSUPER SIMPLE SONGS:\\r\\nThe beloved children’s brand Super Simple is created by Skyship Entertainment. Their award-winning Super Simple Songs combine delightful animation and puppetry with kids songs to help make learning simple and fun. With over 10 million subscribers on YouTube, their songs for kids are favorites with parents, teachers and kids around the globe.',\n",
       "  'descriptionHTML': 'Khan Academy Kids is a free educational app for children ages 2-8. The Khan Kids library includes thousands of kids books, reading games, math activities and more. Best of all, Khan Kids is 100% free with no ads or subscriptions.<br><br>READING, MATH &amp; MORE:<br>With over 5000 lessons and educational games for kids, there is always more to learn in Khan Academy Kids. Kodi the Bear guides kids through interactive learning games. Kids can learn the alphabet with abc games and practice phonics with Ollo the Elephant. During story time, kids can learn to read and learn to write with Reya the Red Panda. Peck the Hummingbird teaches numbers and counting while Sandy the Dingo loves shapes, sorting and memory puzzles. Their fun math games for kids are sure to spark a love of learning. <br><br>ENDLESS BOOKS FOR KIDS:<br>As kids learn to read, they can grow their love of books in the Khan Kids Library. The library is full of educational kids books for preschool, kindergarten and early elementary school. Kids can read about animals, dinosaurs, science, trucks and pets with non-fiction books for kids from National Geographic and Bellwether Media. While kids practice reading skills, they can select Read To Me to have kids books read aloud. We have books for kids in English and Spanish too.<br><br>EARLY LEARNING TO EARLY ELEMENTARY: <br>Khan Kids is an educational app for kids ages 2-8. From preschool lessons and kindergarten learning games to 1st and 2nd grade activities, kids can have fun learning at every level. As they head to preschool and kindergarten, kids can learn to count, add and subtract with fun math games. <br><br>LEARN AT HOME &amp; AT SCHOOL:<br>Khan Academy Kids is the perfect learning app for families at home. From sleepy mornings to road trips, kids and families love learning with Khan Kids. Families that homeschool also enjoy our educational kids games and lessons for kids. And teachers love using Khan Kids in the classroom. Teachers from kindergarten to second grade can easily create assignments and monitor student learning. <br><br>KID-FRIENDLY CURRICULUM: <br>Designed by experts in early childhood education, Khan Academy Kids is aligned with the Head Start Early Learning Outcomes Framework and Common Core Standards. <br><br>OFFLINE ACCESS:<br>No wifi? No problem! Kids can learn on the go with the Khan Academy Kids offline library. Dozens of books and games for kids are available offline, so the learning never has to stop. Kids can practice the alphabet and trace letters, read books and spell sight words, learn numbers and play math games - all offline! <br><br>KID SAFE &amp; COMPLETELY FREE:<br>The Khan Academy Kids app is a safe and fun way for children to learn and play. Khan Kids is COPPA-compliant so children’s privacy is always protected. Khan Academy Kids is 100% free. There are no ads and no subscriptions, so kids can safely focus on learning, reading and playing.<br><br>KHAN ACADEMY:<br>Khan Academy is a 501(c)(3) nonprofit organization with the mission to provide a free, world-class education to anyone, anywhere. Khan Academy Kids was created by early learning experts from Duck Duck Moose who created 22 preschool games and won 22 Parents’ Choice Awards, 19 Children’s Technology Review Awards and a KAPi award for Best Children’s App. Khan Academy Kids is 100% free with no ads or subscriptions.<br><br>SUPER SIMPLE SONGS:<br>The beloved children’s brand Super Simple is created by Skyship Entertainment. Their award-winning Super Simple Songs combine delightful animation and puppetry with kids songs to help make learning simple and fun. With over 10 million subscribers on YouTube, their songs for kids are favorites with parents, teachers and kids around the globe.',\n",
       "  'developer': 'Khan Academy',\n",
       "  'installs': '5,000,000+'},\n",
       " {'appId': 'org.khanacademy.android',\n",
       "  'icon': 'https://play-lh.googleusercontent.com/TpK0AcjPn5-XDKgSZ5jAob1H7MsQuJILOMR4M4QYkTt5CBPgTJVr7mysrKM6Ia8SrX8',\n",
       "  'screenshots': ['https://play-lh.googleusercontent.com/-LCiFlszESetwgNdx6I2EkZ7GsghHdaSiEbAUhwjgE1_VhuTujXw9aD_QUfBZ_GUAWI',\n",
       "   'https://play-lh.googleusercontent.com/fUxgQl-vKmfU0ShBvCmqHclZJo9xLlo8iB_Agypy3NcqpbXuf0VTKul2noTODqBfR5aw',\n",
       "   'https://play-lh.googleusercontent.com/unlhimbyrJzYLr2iPaMU0z6qQX60RHL0tKhJEcYJHGRVab2u5BG11LFXcgI7zYw9hEEo',\n",
       "   'https://play-lh.googleusercontent.com/O1Zbb5CN8KrodSucjjhhLei0KoNJsipaUEtfinPBWG21K6aeZGUbeFS8c2HKE2zHwd8R',\n",
       "   'https://play-lh.googleusercontent.com/5TOndoGA54yenx1VHZxxrgoPbXHjFFEGHrAd82OI5v68kYrmI5Eg3i6yVqNoUGY64Nc',\n",
       "   'https://play-lh.googleusercontent.com/uv5j8ML03UOeaZ40VqKsLl6FbDnbaCuk_Fu65KZ_EvEZ8adwx_Kvj5Sdw22arg2gTPk',\n",
       "   'https://play-lh.googleusercontent.com/MUpzIoU3S8-OlTTx2YCRwLqPhTdJtG7avT9tMN0qSEajcxXOERKt9CTtIrrn2tV90mI',\n",
       "   'https://play-lh.googleusercontent.com/EwDyHGJ8LVy36Hncd9vhdzmCrTh46wBGLG4V96xe91W4DfQfpHFC7B9BU7o7EihgIg',\n",
       "   'https://play-lh.googleusercontent.com/K-Z1vDyLe6DB5Agw61u2zbm8bB8_SWAWybCmjvC0mXgfpDmDd8rXxY238anz2Q-mpuc',\n",
       "   'https://play-lh.googleusercontent.com/ivhv23x5zP9qlpuEnENZa5MgDBwjkjTFRXq496fVyhI3vLIhM67W9M2ElqgproSWxdGR',\n",
       "   'https://play-lh.googleusercontent.com/9GSy93Lqq1yhG8GI6ad5MHeFGYso5z2xB_EjfpgeyxptOpvcPkWQFu8CXon5xg8OwVWo',\n",
       "   'https://play-lh.googleusercontent.com/QwXfyc4Tcj01o2sBa-jbXo6qdO2M5_NwKHei6rqldPFMVPtCVO-xsuOvE_Lh02oocw',\n",
       "   'https://play-lh.googleusercontent.com/2jSggQjrqDsD3u2HZHQbshOta5y_KI_W_IzXFPfYeERglOF9MBHPd1BlMgUIpga5kw',\n",
       "   'https://play-lh.googleusercontent.com/h6YMFvjf69k2sS8mr_XBdXuTyDu9uG361WqGiLxL9a6W45vmgEBf44_xwkrO0yL-g3I',\n",
       "   'https://play-lh.googleusercontent.com/QgxTOqprxGyQHhEnXFhhdgM94iOP3UHO_jBy6vLpL00X1dMDhoWpIYr5BewVbxyNYKyF',\n",
       "   'https://play-lh.googleusercontent.com/-_pSg_W1HO3_0zRrubVyEnQgxIZwW7wZY2Fup3Gb9HNWs-9G2XM12DTvI366NeVvIVE',\n",
       "   'https://play-lh.googleusercontent.com/THTk2BLLpNkwZA9PhQscTu-BHI8sHecYaRoRaz5xyW4pgWE-bfjj2Sy_SspYp8UG8w',\n",
       "   'https://play-lh.googleusercontent.com/jcAocuZn2f-7YMKb9Xd0NhetmDYHx_sOLA0EwWvug0oCCnddDGeKZixNALv1c5Uu5N-J',\n",
       "   'https://play-lh.googleusercontent.com/ovo_UEqhvIBEdjPMZoA_Kl9zBi6lJaRfAizjXRWtxSFq9HaqCZ1W3EdaIJntO3wnDw'],\n",
       "  'title': 'Khan Academy',\n",
       "  'score': 4.2378073,\n",
       "  'genre': 'Education',\n",
       "  'price': 0,\n",
       "  'free': True,\n",
       "  'currency': 'USD',\n",
       "  'video': None,\n",
       "  'videoImage': None,\n",
       "  'description': \"You can learn anything. For free.\\r\\n\\r\\nSpend an afternoon brushing up on statistics. Discover how the Krebs cycle works. Get a head start on next semester's geometry. Prepare for upcoming exams. Or, if you're feeling particularly adventurous, learn how fire-stick farming changes the landscape of Australia.\\r\\n\\r\\nWhether you're a student, teacher, homeschooler, principal, adult returning to the classroom after 20 years, or a friendly alien trying to get a leg up in earthly biology — Khan Academy's personalized learning library is available to you, for free.\\r\\n\\r\\n- Learn anything, for free: Thousands of interactive exercises, videos, and articles at your fingertips. Study math, science, economics, finance, grammar, history, government, politics, and much, much more.\\r\\n\\r\\n- Sharpen your skills: Practice exercises, quizzes, and tests with instant feedback and step-by-step hints. Follow along with what you're learning in school, or practice at your own pace.\\r\\n\\r\\n- Keep learning when you're offline: Bookmark and download your favorite content to watch videos without an internet connection.\\r\\n\\r\\n- Pick up where you left off: Tailored to your current learning level, our mastery system gives instant feedback and recommendations on exactly which skills and videos to try next. And, if you choose to create a free account, your learning syncs with http://khanacademy.org, so your progress is always up-to-date across all your devices. \\r\\n\\r\\nLearn using expert-created videos, interactive exercises, and in-depth articles in math (arithmetic, pre-algebra, algebra, geometry, trigonometry, statistics, calculus, differential equations, linear algebra), science (biology, chemistry, physics), economics (microeconomics, macroeconomics, finance and capital markets), humanities (art history, civics, finance, US history, US government and politics, world history), and more (including computer science principles)!\\r\\n\\r\\nAlready familiar with the Khan Academy website? Not all functionality is available in this app. Community discussions, computer programming content, test prep, parent tools, teacher tools, and district tools should all be accessed directly at http://khanacademy.org.\\r\\n\\r\\nKhan Academy is a 501(c)(3) nonprofit organization, with the mission of providing a free, world-class education for anyone, anywhere.\",\n",
       "  'descriptionHTML': 'You can learn anything. For free.<br><br>Spend an afternoon brushing up on statistics. Discover how the Krebs cycle works. Get a head start on next semester&#39;s geometry. Prepare for upcoming exams. Or, if you&#39;re feeling particularly adventurous, learn how fire-stick farming changes the landscape of Australia.<br><br>Whether you&#39;re a student, teacher, homeschooler, principal, adult returning to the classroom after 20 years, or a friendly alien trying to get a leg up in earthly biology — Khan Academy&#39;s personalized learning library is available to you, for free.<br><br>- Learn anything, for free: Thousands of interactive exercises, videos, and articles at your fingertips. Study math, science, economics, finance, grammar, history, government, politics, and much, much more.<br><br>- Sharpen your skills: Practice exercises, quizzes, and tests with instant feedback and step-by-step hints. Follow along with what you&#39;re learning in school, or practice at your own pace.<br><br>- Keep learning when you&#39;re offline: Bookmark and download your favorite content to watch videos without an internet connection.<br><br>- Pick up where you left off: Tailored to your current learning level, our mastery system gives instant feedback and recommendations on exactly which skills and videos to try next. And, if you choose to create a free account, your learning syncs with http://khanacademy.org, so your progress is always up-to-date across all your devices. <br><br>Learn using expert-created videos, interactive exercises, and in-depth articles in math (arithmetic, pre-algebra, algebra, geometry, trigonometry, statistics, calculus, differential equations, linear algebra), science (biology, chemistry, physics), economics (microeconomics, macroeconomics, finance and capital markets), humanities (art history, civics, finance, US history, US government and politics, world history), and more (including computer science principles)!<br><br>Already familiar with the Khan Academy website? Not all functionality is available in this app. Community discussions, computer programming content, test prep, parent tools, teacher tools, and district tools should all be accessed directly at http://khanacademy.org.<br><br>Khan Academy is a 501(c)(3) nonprofit organization, with the mission of providing a free, world-class education for anyone, anywhere.',\n",
       "  'developer': 'Khan Academy',\n",
       "  'installs': '10,000,000+'},\n",
       " {'appId': 'org.pbskids.gamesapp',\n",
       "  'icon': 'https://play-lh.googleusercontent.com/nYDg7dx-itdjoZ8hj3JcVBvI254VEEKKhv6DUzjqhICJ1lUbBvRbvgJPZD-EkN8-4A',\n",
       "  'screenshots': ['https://play-lh.googleusercontent.com/cFSmqn4PRLEvDb-4rWPaEfzyJ7azTY_TEhzIABfC8i7aPu9ekC47R5QVUO1LKcx0Qw',\n",
       "   'https://play-lh.googleusercontent.com/iPcEfPJGIJxLiEi-sFqEFNLI_MlQZZ0Skk2u2YG5zHcEGypcP2lwwy-VUVTl9FwNlIhK',\n",
       "   'https://play-lh.googleusercontent.com/CGFE4WW2ba0nqBgj9d5utPgAzkg0pNzYqQ8bPpPWa3dR-QahOHxYjDozXZFAP7VFAw',\n",
       "   'https://play-lh.googleusercontent.com/TEiiC_vb2i5uqxGag-n41p3EiUI6l4idKizzFaNt8NV4PZgJg4hA3QIHMwDNmQsSxiE',\n",
       "   'https://play-lh.googleusercontent.com/dtVxCTAMfz-8Aj5xnGGYB0RfAy-jgPz2k7M6L1PSrwKqj7_rjVE32BPvPZL_491PE4M',\n",
       "   'https://play-lh.googleusercontent.com/_P8rXzPfTpnJMhTQFgSwtn92nAu3EIEqE4ptnOa_LUPd51K744U-cKeQYJrrcufdZQ',\n",
       "   'https://play-lh.googleusercontent.com/jb0z3kD8OWgUm5UO995x9nleovyFw-u_Mha9r6ef1l9dOi5PjqTE37azsu_flqkEL68',\n",
       "   'https://play-lh.googleusercontent.com/2T1w-GQxY7rAYBdT1pf3xFeIq6Neyo_5R5rtQpELh_hIu7z2WflM7gyvWriQU95knMNJ',\n",
       "   'https://play-lh.googleusercontent.com/1rl3RuOoPzDq0lCrcTRGrLSTSlqna4lI1Mnt7AkJ0SJZIz8i1jrRNP2W5L0eswbCQQ',\n",
       "   'https://play-lh.googleusercontent.com/ZTCiER3GDsZ_HAwoyWacpQUrUHYPtcEvhHi5MH1-dGLnHdxFDnE7d2RsWxMyEKJMcOD2',\n",
       "   'https://play-lh.googleusercontent.com/IOYFrJctwd00D3TG1vESvx2EFo43Ay3m_1hjfHJkTXNFMWo7bP2fS_fExcms3KGfQw',\n",
       "   'https://play-lh.googleusercontent.com/wglryTpKFImqc7gy8uNvz0mM9g5wF2-vKFrjiaSkEo68yfphMBty1Pjre8hQ4llwLjU',\n",
       "   'https://play-lh.googleusercontent.com/TEhVpHhYr16WLGFS_cLH2lvPiwmYIFOY2ZRnLPMkb6M06j2PzvJ1MQkIdM9iszGXdxFY',\n",
       "   'https://play-lh.googleusercontent.com/AUKrDWpmXv_jKPcGcb8wWMrUg7TrcPyz7yeflkaz_igFF62ljyaLpbyXbECbc28bdaf-',\n",
       "   'https://play-lh.googleusercontent.com/oagq2dJbBBbdxsGs8G0xtpsuJxzZP-XE2NqSLGZH1oDz2pr3p17cVw61Cuvd1nlo4cU',\n",
       "   'https://play-lh.googleusercontent.com/1X45XNKFkikwGlqYaNgywoIorqKg0gR6SSh8FV_Ju7WBM_yXbW_DnNdSUGCJq4cfNg',\n",
       "   'https://play-lh.googleusercontent.com/vmBjSdNAQRRJ6P3zK6rkEO3tOKgkLbEeR4KWKMoW1jpyyvWxEjD95taUjUHJdNHQEmk',\n",
       "   'https://play-lh.googleusercontent.com/SAolQB_MS3ClbNEn2JWD_4mhdcbnzfdKek1Bb8DbzUmfSFqHVnexC6mtb8-kgIyqwUVs',\n",
       "   'https://play-lh.googleusercontent.com/tNSCFpJO0FjEtCEaQCv9GmYswX0r0dEYmnU22C2PyUAPzXd65mclNV9AShwEblJN_-8',\n",
       "   'https://play-lh.googleusercontent.com/bFlo3Y6S2ZOgE3bUpHBF6WU2fPa8E3eHVtLuQxyfWI-c9Q3vC2vU0Z8SUQuUHIZ_49Q',\n",
       "   'https://play-lh.googleusercontent.com/gErIM2cq56SEXDjQC3bYQJBASuF-PLOwosZHN1lG6_A3KPP8tqqvmkul1JUJBLRZoUk',\n",
       "   'https://play-lh.googleusercontent.com/KXBEQ-9x53KZjuzq4aS1NlFjPOel8Ej2mZF0TikT8PLNi7ezqC7b5K8C1_GGiPoniM4',\n",
       "   'https://play-lh.googleusercontent.com/RDlj84nh2wN-Z2BciEvGdyw8TUD8ksdYI4v7uVfxe7p7g0qSh7ezim_lHUY2ED3rAHY',\n",
       "   'https://play-lh.googleusercontent.com/CoJEr_tyLWHunPKoABJG09ybuakTR1ZjSPjGWhj12pRDGFGiEvttUa5e5eowlZXoiNA3',\n",
       "   'https://play-lh.googleusercontent.com/WVlMU0zLba241niRX_e92yDvRar-BQqnxGKcoGa0W59kAs2SMNGBQNTXbP0dlG2N2ME'],\n",
       "  'title': 'PBS KIDS Games App',\n",
       "  'score': 4.374326,\n",
       "  'genre': 'Educational',\n",
       "  'price': 0,\n",
       "  'free': True,\n",
       "  'currency': 'USD',\n",
       "  'video': None,\n",
       "  'videoImage': None,\n",
       "  'description': \"The PBS KIDS Games app makes learning fun and safe with educational games for kids featuring favorites like Daniel Tiger, Wild Kratts, Lyla in the Loop, and more! Your child can play and learn with 250+ free educational games designed just for them!\\r\\n\\r\\nPlay and learn with PBS KIDS in English and Spanish with favorites like Alma, Rosie, and more. Download fun games for kids and play from the safety of your home or anywhere to keep the fun going offline.\\r\\n\\r\\nYour child will learn and play in a safe, kid friendly interface, making preschool, kindergarten, and early elementary education fun and easy. Start your child’s learning adventure today!\\r\\n\\r\\nSAFE GAMES DESIGNED FOR KIDS\\r\\n* PBS KIDS Games provides a safe, kid friendly playing experience for your child or toddler\\r\\n* Play mini games that boost imagination and allow kids to learn with beloved PBS KIDS characters\\r\\n\\r\\nPLAY GAMES OFFLINE\\r\\n* Download fun kids games and play offline!\\r\\n* Kids can easily browse and play at home, on the road, or anywhere\\r\\n* Download games to keep learning on the go\\r\\n\\r\\nLEARNING GAMES FOR GRADE SCHOOL EDUCATION\\r\\n* 250+ FREE curriculum-based games for kids ages 2-8\\r\\n* Encourage early learning with educational games for kids with different school subjects\\r\\n* Explore mazes, puzzles, play dress-up, coloring, and more\\r\\n* Preschool and kindergarten games\\r\\n* Math games\\r\\n* Science games\\r\\n* Reading games\\r\\n* Art games\\r\\n* And more!\\r\\n\\r\\nNEW GAMES ADDED WEEKLY\\r\\n* Kids will learn and have fun with new games added frequently\\r\\n* Play new games with accessibility features to enhance the fun!\\r\\n* Build STEM skills with science, engineering, and math puzzles\\r\\n* Play games geared to help with social concepts like kindness, mindfulness, and emotions\\r\\n* Games and activities for kids that can foster healthy habits by learning daily routines\\r\\n* Spark creativity and imagination with art games\\r\\n\\r\\nPLAY GAMES FROM PBS KIDS SHOWS\\r\\n* Daniel Tiger’s Neighborhood\\r\\n* Wild Kratts\\r\\n* Lyla in the Loop\\r\\n* Work It Out Wombats!\\r\\n* Rosie’s Rules\\r\\n* Alma’s Way\\r\\n* Donkey Hodie\\r\\n* Odd Squad\\r\\n* Pinkalicious & Peterrific\\r\\n* Arthur\\r\\n* Elinor Wonders Why\\r\\n* Let’s go Luna\\r\\n* Xavier Riddle and the Secret Museum\\r\\n* Scribbles and Ink\\r\\n* Clifford\\r\\n* Molly of Denali\\r\\n* Sesame Street\\r\\n* Nature Cat\\r\\n\\r\\nPLAY IN ENGLISH OR SPANISH\\r\\n* Bilingual kids will enjoy playing with Alma, Rosie, and more in English and Spanish\\r\\n* Spanish speakers can play 17 educational games\\r\\n\\r\\nPARENT RESOURCES\\r\\n* Manage the app’s device storage for offline fun\\r\\n* Download related PBS KIDS apps to expand your child’s learning\\r\\n* Learn more about PBS TV shows, such as intended age and learning goals\\r\\n* Find your local PBS KIDS station schedule\\r\\n\\r\\nPlay fun educational games and join your kids on a learning adventure alongside their favorite PBS KIDS characters with the PBS KIDS Games app!\\r\\n\\r\\nDownload PBS KIDS Games and start learning today!\\r\\n\\r\\nABOUT PBS KIDS\\r\\nPBS KIDS, the number one educational media brand for kids, offers all children the opportunity to explore new ideas and new worlds through television, digital platforms, and community-based programs. PBS KIDS Games is a key part of PBS KIDS’ commitment to making a positive impact on the lives of children through curriculum-based media—wherever kids are. More free PBS KIDS games are also available online at pbskids.org/games. You can support PBS KIDS by downloading other PBS KIDS apps in the Google Play Store.\\r\\n\\r\\nAWARDS\\r\\n* Kidscreen Awards (2024): Best Game App – Branded, Digital, Preschool\\r\\n* Webby Winner and Webby People’s Voice Winner (2023)\\r\\n* Kidscreen Award Winner (2021 and 2022): Preschool - Best Game App\\r\\n* Parents' Choice Recommended Mobile App (2017)\\r\\n\\r\\nPRIVACY\\r\\nAcross all media platforms, PBS KIDS is committed to creating a safe and secure environment for children and families and being transparent about what information is collected from users. To learn more about PBS KIDS’ privacy policy, visit pbskids.org/privacy.\",\n",
       "  'descriptionHTML': 'The PBS KIDS Games app makes learning fun and safe with educational games for kids featuring favorites like Daniel Tiger, Wild Kratts, Lyla in the Loop, and more! Your child can play and learn with 250+ free educational games designed just for them!<br><br>Play and learn with PBS KIDS in English and Spanish with favorites like Alma, Rosie, and more. Download fun games for kids and play from the safety of your home or anywhere to keep the fun going offline.<br><br>Your child will learn and play in a safe, kid friendly interface, making preschool, kindergarten, and early elementary education fun and easy. Start your child’s learning adventure today!<br><br>SAFE GAMES DESIGNED FOR KIDS<br>* PBS KIDS Games provides a safe, kid friendly playing experience for your child or toddler<br>* Play mini games that boost imagination and allow kids to learn with beloved PBS KIDS characters<br><br>PLAY GAMES OFFLINE<br>* Download fun kids games and play offline!<br>* Kids can easily browse and play at home, on the road, or anywhere<br>* Download games to keep learning on the go<br><br>LEARNING GAMES FOR GRADE SCHOOL EDUCATION<br>* 250+ FREE curriculum-based games for kids ages 2-8<br>* Encourage early learning with educational games for kids with different school subjects<br>* Explore mazes, puzzles, play dress-up, coloring, and more<br>* Preschool and kindergarten games<br>* Math games<br>* Science games<br>* Reading games<br>* Art games<br>* And more!<br><br>NEW GAMES ADDED WEEKLY<br>* Kids will learn and have fun with new games added frequently<br>* Play new games with accessibility features to enhance the fun!<br>* Build STEM skills with science, engineering, and math puzzles<br>* Play games geared to help with social concepts like kindness, mindfulness, and emotions<br>* Games and activities for kids that can foster healthy habits by learning daily routines<br>* Spark creativity and imagination with art games<br><br>PLAY GAMES FROM PBS KIDS SHOWS<br>* Daniel Tiger’s Neighborhood<br>* Wild Kratts<br>* Lyla in the Loop<br>* Work It Out Wombats!<br>* Rosie’s Rules<br>* Alma’s Way<br>* Donkey Hodie<br>* Odd Squad<br>* Pinkalicious &amp; Peterrific<br>* Arthur<br>* Elinor Wonders Why<br>* Let’s go Luna<br>* Xavier Riddle and the Secret Museum<br>* Scribbles and Ink<br>* Clifford<br>* Molly of Denali<br>* Sesame Street<br>* Nature Cat<br><br>PLAY IN ENGLISH OR SPANISH<br>* Bilingual kids will enjoy playing with Alma, Rosie, and more in English and Spanish<br>* Spanish speakers can play 17 educational games<br><br>PARENT RESOURCES<br>* Manage the app’s device storage for offline fun<br>* Download related PBS KIDS apps to expand your child’s learning<br>* Learn more about PBS TV shows, such as intended age and learning goals<br>* Find your local PBS KIDS station schedule<br><br>Play fun educational games and join your kids on a learning adventure alongside their favorite PBS KIDS characters with the PBS KIDS Games app!<br><br>Download PBS KIDS Games and start learning today!<br><br>ABOUT PBS KIDS<br>PBS KIDS, the number one educational media brand for kids, offers all children the opportunity to explore new ideas and new worlds through television, digital platforms, and community-based programs. PBS KIDS Games is a key part of PBS KIDS’ commitment to making a positive impact on the lives of children through curriculum-based media—wherever kids are. More free PBS KIDS games are also available online at pbskids.org/games. You can support PBS KIDS by downloading other PBS KIDS apps in the Google Play Store.<br><br>AWARDS<br>* Kidscreen Awards (2024): Best Game App – Branded, Digital, Preschool<br>* Webby Winner and Webby People’s Voice Winner (2023)<br>* Kidscreen Award Winner (2021 and 2022): Preschool - Best Game App<br>* Parents&#39; Choice Recommended Mobile App (2017)<br><br>PRIVACY<br>Across all media platforms, PBS KIDS is committed to creating a safe and secure environment for children and families and being transparent about what information is collected from users. To learn more about PBS KIDS’ privacy policy, visit pbskids.org/privacy.',\n",
       "  'developer': 'PBS KIDS',\n",
       "  'installs': '10,000,000+'}]"
      ]
     },
     "execution_count": 5,
     "metadata": {},
     "output_type": "execute_result"
    }
   ],
   "source": [
    "result"
   ]
  },
  {
   "cell_type": "code",
   "execution_count": 6,
   "id": "1d74e3e2",
   "metadata": {},
   "outputs": [],
   "source": [
    "appIds = []\n",
    "appNames = []\n",
    "appIds.append(result[0]['appId'])\n",
    "appIds.append(result[1]['appId'])\n",
    "appIds.append(result[2]['appId'])\n",
    "appNames.append(result[0]['title'])\n",
    "appNames.append(result[1]['title'])\n",
    "appNames.append(result[2]['title'])"
   ]
  },
  {
   "cell_type": "code",
   "execution_count": 7,
   "id": "386a100a",
   "metadata": {},
   "outputs": [
    {
     "name": "stdout",
     "output_type": "stream",
     "text": [
      "0 ------------------\n",
      "Khan Academy Kids\n",
      "4.647536\n",
      "5874\n",
      "org.khankids.android\n",
      "1 ------------------\n",
      "Khan Academy\n",
      "4.2378073\n",
      "9074\n",
      "org.khanacademy.android\n",
      "2 ------------------\n",
      "PBS KIDS Games App\n",
      "4.374326\n",
      "11769\n",
      "org.pbskids.gamesapp\n"
     ]
    }
   ],
   "source": [
    "#we use this function if we want total reviews period\n",
    "#applist = []\n",
    "#namelist = []\n",
    "for idx in range(0, 3):\n",
    "    appid = appIds[idx]\n",
    "    appcall = app(\n",
    "        appid,\n",
    "        lang='en', # defaults to 'en'\n",
    "        country='us', # defaults to 'us'\n",
    "    )\n",
    "    #there is a distinction between ratings and reviews, reviews have bodies of text while ratings only need the score\n",
    "    print(f\"{idx} ------------------\")\n",
    "    print(appcall['title'])\n",
    "    print(appcall['score'])\n",
    "    print(appcall['reviews'])\n",
    "    print(appcall['appId'])\n",
    "    \n",
    "    #applist.append(result[idx]['appId'])\n",
    "    #namelist.append(result[idx]['title'])\n",
    "    \n",
    "            "
   ]
  },
  {
   "cell_type": "code",
   "execution_count": 8,
   "id": "5cd217c5",
   "metadata": {},
   "outputs": [
    {
     "data": {
      "text/plain": [
       "['org.khankids.android', 'org.khanacademy.android', 'org.pbskids.gamesapp']"
      ]
     },
     "execution_count": 8,
     "metadata": {},
     "output_type": "execute_result"
    }
   ],
   "source": [
    "appIds"
   ]
  },
  {
   "cell_type": "code",
   "execution_count": 9,
   "id": "1376723a",
   "metadata": {},
   "outputs": [],
   "source": [
    "#first app\n",
    "#adds all the reviews to a dataframe\n",
    "app1_df = pd.DataFrame()\n",
    "result = reviews_all(\n",
    "    appIds[0],\n",
    "    sleep_milliseconds=0, # defaults to 0\n",
    "    lang='en', # defaults to 'en'\n",
    "    country='us', # defaults to 'us'\n",
    "    sort=Sort.MOST_RELEVANT, # defaults to Sort.MOST_RELEVANT\n",
    ")\n",
    "for review in result:\n",
    "    developerResponse = review\n",
    "    date = review['at']\n",
    "    userName = review['userName']\n",
    "    reviewText = review['content']\n",
    "    score = review['score']\n",
    "    #can't get title\n",
    "    #can't get isEdited\n",
    "    review_df = pd.DataFrame({'developerResponse': [developerResponse],  'date': [date], 'review': [reviewText], \n",
    "                               'score': [score], 'userName': [userName],'name': [appNames[0]]})\n",
    "    app1_df = pd.concat([app1_df, review_df], ignore_index = True)\n",
    "\n",
    "#second app\n",
    "#adds all the reviews to a dataframe\n",
    "app2_df = pd.DataFrame()\n",
    "result = reviews_all(\n",
    "    appIds[1],\n",
    "    sleep_milliseconds=0, # defaults to 0\n",
    "    lang='en', # defaults to 'en'\n",
    "    country='us', # defaults to 'us'\n",
    "    sort=Sort.MOST_RELEVANT, # defaults to Sort.MOST_RELEVANT\n",
    ")\n",
    "for review in result:\n",
    "    developerResponse = review\n",
    "    date = review['at']\n",
    "    userName = review['userName']\n",
    "    reviewText = review['content']\n",
    "    score = review['score']\n",
    "    #can't get title\n",
    "    #can't get isEdited\n",
    "    review_df = pd.DataFrame({'developerResponse': [developerResponse],  'date': [date], 'review': [reviewText], \n",
    "                               'score': [score], 'userName': [userName],'name': [appNames[1]]})\n",
    "    app2_df = pd.concat([app2_df, review_df], ignore_index = True)\n",
    "\n",
    "#third app\n",
    "#adds all the reviews to a dataframe\n",
    "app3_df = pd.DataFrame()\n",
    "result = reviews_all(\n",
    "    appIds[2],\n",
    "    sleep_milliseconds=0, # defaults to 0\n",
    "    lang='en', # defaults to 'en'\n",
    "    country='us', # defaults to 'us'\n",
    "    sort=Sort.MOST_RELEVANT, # defaults to Sort.MOST_RELEVANT\n",
    ")\n",
    "for review in result:\n",
    "    developerResponse = review\n",
    "    date = review['at']\n",
    "    userName = review['userName']\n",
    "    reviewText = review['content']\n",
    "    score = review['score']\n",
    "    #can't get title\n",
    "    #can't get isEdited\n",
    "    review_df = pd.DataFrame({'developerResponse': [developerResponse],  'date': [date], 'review': [reviewText], \n",
    "                               'score': [score], 'userName': [userName],'name': [appNames[2]]})\n",
    "    app3_df = pd.concat([app3_df, review_df], ignore_index = True)"
   ]
  },
  {
   "cell_type": "code",
   "execution_count": 10,
   "id": "660e61e8",
   "metadata": {},
   "outputs": [
    {
     "data": {
      "text/html": [
       "<div>\n",
       "<style scoped>\n",
       "    .dataframe tbody tr th:only-of-type {\n",
       "        vertical-align: middle;\n",
       "    }\n",
       "\n",
       "    .dataframe tbody tr th {\n",
       "        vertical-align: top;\n",
       "    }\n",
       "\n",
       "    .dataframe thead th {\n",
       "        text-align: right;\n",
       "    }\n",
       "</style>\n",
       "<table border=\"1\" class=\"dataframe\">\n",
       "  <thead>\n",
       "    <tr style=\"text-align: right;\">\n",
       "      <th></th>\n",
       "      <th>developerResponse</th>\n",
       "      <th>date</th>\n",
       "      <th>review</th>\n",
       "      <th>score</th>\n",
       "      <th>userName</th>\n",
       "      <th>name</th>\n",
       "    </tr>\n",
       "  </thead>\n",
       "  <tbody>\n",
       "    <tr>\n",
       "      <th>0</th>\n",
       "      <td>{'reviewId': 'bf578631-8bda-4052-91a2-aae78358...</td>\n",
       "      <td>2024-11-16 15:02:56</td>\n",
       "      <td>I'm using this in place of workbooks for my pr...</td>\n",
       "      <td>5</td>\n",
       "      <td>A Google user</td>\n",
       "      <td>Khan Academy Kids</td>\n",
       "    </tr>\n",
       "    <tr>\n",
       "      <th>1</th>\n",
       "      <td>{'reviewId': '621e873f-e7db-46f8-b566-4a161e05...</td>\n",
       "      <td>2024-09-09 15:36:26</td>\n",
       "      <td>Amazing!! My grandson will be four in January ...</td>\n",
       "      <td>5</td>\n",
       "      <td>A Google user</td>\n",
       "      <td>Khan Academy Kids</td>\n",
       "    </tr>\n",
       "    <tr>\n",
       "      <th>2</th>\n",
       "      <td>{'reviewId': '519f0996-0700-4932-8209-0bdc6901...</td>\n",
       "      <td>2024-06-11 11:19:19</td>\n",
       "      <td>This app has been great for supplementing my k...</td>\n",
       "      <td>5</td>\n",
       "      <td>A Google user</td>\n",
       "      <td>Khan Academy Kids</td>\n",
       "    </tr>\n",
       "    <tr>\n",
       "      <th>3</th>\n",
       "      <td>{'reviewId': 'b1c1c24e-5767-4a05-8e9b-3e273393...</td>\n",
       "      <td>2024-07-25 20:51:15</td>\n",
       "      <td>I've always been wary of my small babies being...</td>\n",
       "      <td>5</td>\n",
       "      <td>A Google user</td>\n",
       "      <td>Khan Academy Kids</td>\n",
       "    </tr>\n",
       "    <tr>\n",
       "      <th>4</th>\n",
       "      <td>{'reviewId': '828ea6b7-4a20-4a14-9ac2-147b3937...</td>\n",
       "      <td>2020-09-26 22:18:35</td>\n",
       "      <td>Had heard about this app but ended downloading...</td>\n",
       "      <td>4</td>\n",
       "      <td>A Google user</td>\n",
       "      <td>Khan Academy Kids</td>\n",
       "    </tr>\n",
       "  </tbody>\n",
       "</table>\n",
       "</div>"
      ],
      "text/plain": [
       "                                   developerResponse                date  \\\n",
       "0  {'reviewId': 'bf578631-8bda-4052-91a2-aae78358... 2024-11-16 15:02:56   \n",
       "1  {'reviewId': '621e873f-e7db-46f8-b566-4a161e05... 2024-09-09 15:36:26   \n",
       "2  {'reviewId': '519f0996-0700-4932-8209-0bdc6901... 2024-06-11 11:19:19   \n",
       "3  {'reviewId': 'b1c1c24e-5767-4a05-8e9b-3e273393... 2024-07-25 20:51:15   \n",
       "4  {'reviewId': '828ea6b7-4a20-4a14-9ac2-147b3937... 2020-09-26 22:18:35   \n",
       "\n",
       "                                              review  score       userName  \\\n",
       "0  I'm using this in place of workbooks for my pr...      5  A Google user   \n",
       "1  Amazing!! My grandson will be four in January ...      5  A Google user   \n",
       "2  This app has been great for supplementing my k...      5  A Google user   \n",
       "3  I've always been wary of my small babies being...      5  A Google user   \n",
       "4  Had heard about this app but ended downloading...      4  A Google user   \n",
       "\n",
       "                name  \n",
       "0  Khan Academy Kids  \n",
       "1  Khan Academy Kids  \n",
       "2  Khan Academy Kids  \n",
       "3  Khan Academy Kids  \n",
       "4  Khan Academy Kids  "
      ]
     },
     "execution_count": 10,
     "metadata": {},
     "output_type": "execute_result"
    }
   ],
   "source": [
    "app1_df.head()"
   ]
  },
  {
   "cell_type": "code",
   "execution_count": 11,
   "id": "b8447b52",
   "metadata": {},
   "outputs": [
    {
     "data": {
      "text/plain": [
       "(12709, 6)"
      ]
     },
     "execution_count": 11,
     "metadata": {},
     "output_type": "execute_result"
    }
   ],
   "source": [
    "app1_df.shape"
   ]
  },
  {
   "cell_type": "code",
   "execution_count": 12,
   "id": "22a0c16c",
   "metadata": {},
   "outputs": [
    {
     "data": {
      "text/plain": [
       "(40069, 6)"
      ]
     },
     "execution_count": 12,
     "metadata": {},
     "output_type": "execute_result"
    }
   ],
   "source": [
    "app2_df.shape"
   ]
  },
  {
   "cell_type": "code",
   "execution_count": 13,
   "id": "6a706219",
   "metadata": {},
   "outputs": [
    {
     "data": {
      "text/plain": [
       "(11033, 6)"
      ]
     },
     "execution_count": 13,
     "metadata": {},
     "output_type": "execute_result"
    }
   ],
   "source": [
    "app3_df.shape"
   ]
  },
  {
   "cell_type": "code",
   "execution_count": null,
   "id": "0b16ad20",
   "metadata": {},
   "outputs": [],
   "source": [
    "app3_df.to_csv(\"data/playstore_reviews.csv\", index=False)"
   ]
  },
  {
   "cell_type": "code",
   "execution_count": null,
   "id": "3f559849",
   "metadata": {},
   "outputs": [],
   "source": []
  }
 ],
 "metadata": {
  "kernelspec": {
   "display_name": "mgscfinal",
   "language": "python",
   "name": "python3"
  },
  "language_info": {
   "codemirror_mode": {
    "name": "ipython",
    "version": 3
   },
   "file_extension": ".py",
   "mimetype": "text/x-python",
   "name": "python",
   "nbconvert_exporter": "python",
   "pygments_lexer": "ipython3",
   "version": "3.11.10"
  }
 },
 "nbformat": 4,
 "nbformat_minor": 5
}
